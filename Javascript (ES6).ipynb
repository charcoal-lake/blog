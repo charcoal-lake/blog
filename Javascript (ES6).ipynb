{
 "cells": [
  {
   "cell_type": "markdown",
   "metadata": {},
   "source": [
    "# 자료형 : let, var, const\n",
    "\n",
    "`var`는 **function-scoped** 이고\n",
    "`let`, `const` 는 **block-scoped** 이다.\n",
    "\n",
    "### var (function-scoped)\n",
    "말 그대로 함수 범위 내까지 영향을 주며, 따라서 hoisting 발생.\n",
    "예를 들어 main 함수 안에서 `var` 를 사용하게 되면, block 단위의 조건문/반복문을 벗어나도 해당 변수를 참조할 수 있게 됨. "
   ]
  },
  {
   "cell_type": "code",
   "execution_count": 1,
   "metadata": {},
   "outputs": [
    {
     "name": "stdout",
     "output_type": "stream",
     "text": [
      "j 0\n",
      "j 1\n",
      "j 2\n",
      "j 3\n",
      "j 4\n",
      "j 5\n",
      "j 6\n",
      "j 7\n",
      "j 8\n",
      "j 9\n",
      "after loop j is  10\n"
     ]
    }
   ],
   "source": [
    "for (var j=0; j<10; j++){\n",
    "    console.log('j', j)\n",
    "}\n",
    "console.log('after loop j is ', j);"
   ]
  },
  {
   "cell_type": "markdown",
   "metadata": {},
   "source": [
    "위의 코드는 에러를 일으키지 않는다."
   ]
  },
  {
   "cell_type": "code",
   "execution_count": 2,
   "metadata": {},
   "outputs": [
    {
     "name": "stdout",
     "output_type": "stream",
     "text": [
      "j 0\n",
      "j 1\n",
      "j 2\n",
      "j 3\n",
      "j 4\n",
      "j 5\n",
      "j 6\n",
      "j 7\n",
      "j 8\n",
      "j 9\n",
      "after loop j is  10\n"
     ]
    }
   ],
   "source": [
    "for (j=0; j<10; j++){\n",
    "    console.log('j', j);\n",
    "}\n",
    "console.log('after loop j is ', j);\n",
    "var j;"
   ]
  },
  {
   "cell_type": "markdown",
   "metadata": {},
   "source": [
    "마찬가지로 위의 코드 역시 에러를 일으키지 않는다. 위와 같은 **hoisting** 문제를 막기 위해 `use strict` 를 사용하거나, iife 를 사용할 수 있다. 그러나 **block scoped** 를 사용하면, hoisting 을 막을 수 있다.\n"
   ]
  },
  {
   "cell_type": "markdown",
   "metadata": {},
   "source": [
    "### let, const (block scoped)\n",
    "let, const는 **block scoped** 이다. 즉 특정 블락 -- 조건문 내부, 반복문 내부 등 블록 단위로만 영향을 미친다.\n",
    "\n",
    "* `let`과 `const`는 변수 재선언이 불가능하다.\n",
    "* `let`과 `const`는 `block-scope` 단위로 hoisting이 일어난다.\n",
    "* `let`은 재할당이 가능하지만, `const`는 재할당이 불가능하다.\n"
   ]
  },
  {
   "cell_type": "code",
   "execution_count": 3,
   "metadata": {},
   "outputs": [],
   "source": [
    "var a = 1;\n",
    "var a = 2;"
   ]
  },
  {
   "cell_type": "code",
   "execution_count": 4,
   "metadata": {},
   "outputs": [
    {
     "ename": "SyntaxError",
     "evalue": "Identifier 'a' has already been declared",
     "output_type": "error",
     "traceback": [
      "evalmachine.<anonymous>:2",
      "let a = 2;",
      "    ^",
      "",
      "SyntaxError: Identifier 'a' has already been declared",
      "    at new Script (vm.js:99:7)",
      "    at createScript (vm.js:247:10)",
      "    at Object.runInThisContext (vm.js:295:10)",
      "    at run ([eval]:1054:15)",
      "    at onRunRequest ([eval]:888:18)",
      "    at onMessage ([eval]:848:13)",
      "    at process.emit (events.js:314:20)",
      "    at emit (internal/child_process.js:906:12)",
      "    at processTicksAndRejections (internal/process/task_queues.js:81:21)"
     ]
    }
   ],
   "source": [
    "let a = 1;\n",
    "let a = 2;"
   ]
  },
  {
   "cell_type": "code",
   "execution_count": 5,
   "metadata": {},
   "outputs": [
    {
     "ename": "SyntaxError",
     "evalue": "Identifier 'a' has already been declared",
     "output_type": "error",
     "traceback": [
      "evalmachine.<anonymous>:1",
      "const a= 1;",
      "^",
      "",
      "SyntaxError: Identifier 'a' has already been declared",
      "    at Script.runInThisContext (vm.js:131:18)",
      "    at Object.runInThisContext (vm.js:295:38)",
      "    at run ([eval]:1054:15)",
      "    at onRunRequest ([eval]:888:18)",
      "    at onMessage ([eval]:848:13)",
      "    at process.emit (events.js:314:20)",
      "    at emit (internal/child_process.js:906:12)",
      "    at processTicksAndRejections (internal/process/task_queues.js:81:21)"
     ]
    }
   ],
   "source": [
    "const a= 1;\n",
    "a = 2;"
   ]
  },
  {
   "cell_type": "markdown",
   "metadata": {},
   "source": [
    "# Object vs Class (ES6)\n",
    "\n",
    "자바스크립트에서 객체를 생성하는 방법은 두가지가 있다. 하나는 오브젝트를 직접 생성하는 것 (오브젝트 객체 이용), 그리고 다른 하나는 클래스를 사용하는 것이다. `Object`는 `Dictionary`와 같은 개념이다. 다만 `key` 값에 변수가 아닌 값이 들어와도 상관이 없다.\n",
    "\n",
    "`Class`는 **ES6**에서 도입된 개념으로서, 일반적인 `class`의 개념과 같다. 그러나 `super`, `get`, `set` 에 대해서는 알아둘 필요가 있다.\n",
    "\n",
    "자바스크립트에서는 함수와 마찬가지로 `class` 역시 unnamed 일 수 있다.\n",
    "\n",
    "* super() 는 하위 클래스가 상위 클래스의 `constructor`를 호출할 때 사용한다.\n",
    "* super. 는 하위 클래스에서 상위 클래스를 참조할 때 사용한다.\n",
    "\n",
    "### getter & setter (접근자 프로퍼티)\n",
    "\n",
    "객체 안의 메서드는 `get` 또는 `set`으로 나타낼 수 있다.\n",
    "* `getter` 메서드는 객체의 값을 일반 프로퍼티로 접근하는 것처럼 접근할 수 있게 해준다.\n",
    "* `setter` 메서드는 객체의 값을 일반 프로퍼티에 할당하는 것처럼 할 수 있다.\n",
    "\n",
    "`getter`와 `setter`를 사용하면 **\"가상의\"** 프로퍼티가 생성된다고 볼 수 있다. (예제 참조)"
   ]
  },
  {
   "cell_type": "code",
   "execution_count": 6,
   "metadata": {},
   "outputs": [],
   "source": [
    "// object와 class 선언\n",
    "\n",
    "var person = {\n",
    "    name : ['Bob', 'Smith'],\n",
    "    age : 32,\n",
    "    gender : 'male'\n",
    "}\n",
    "\n",
    "class _Person{\n",
    "    constructor(name, age, gender){\n",
    "        this.name = name;\n",
    "        this.age = age;\n",
    "        this.gender = gender;\n",
    "    }\n",
    "    \n",
    "    get birthdate(){\n",
    "        return (2020-this.age);\n",
    "    }\n",
    "    \n",
    "    set birthdate(value){\n",
    "        this.age = 2020-value;\n",
    "    }\n",
    "}\n",
    "\n",
    "class _Worker extends _Person{\n",
    "    constructor(name, age, gender, occupation, workhours){\n",
    "        super(name, age, gender);\n",
    "        this.occupation = occupation;\n",
    "        this.workhours = workhours;\n",
    "    }\n",
    "}\n",
    "\n",
    "const _new_person = class {\n",
    "    constructor(){\n",
    "        this.a = 1;\n",
    "    }\n",
    "    \n",
    "    //...\n",
    "}"
   ]
  },
  {
   "cell_type": "code",
   "execution_count": 7,
   "metadata": {},
   "outputs": [
    {
     "name": "stdout",
     "output_type": "stream",
     "text": [
      "1988\n",
      "1996\n"
     ]
    }
   ],
   "source": [
    "// getter and setter\n",
    "\n",
    "let someone = new _Person([`Jane`, `Doe`], 32, `Female`);\n",
    "console.log(someone.birthdate);\n",
    "someone.birthdate = 1996;\n",
    "console.log(someone.birthdate);\n"
   ]
  },
  {
   "cell_type": "markdown",
   "metadata": {},
   "source": [
    "## Arrows (화살표 함수)"
   ]
  },
  {
   "cell_type": "code",
   "execution_count": 9,
   "metadata": {},
   "outputs": [
    {
     "name": "stdout",
     "output_type": "stream",
     "text": [
      "[ 3, 5, 7, 9 ]\n",
      "[\n",
      "  { even: 2, odd: 3 },\n",
      "  { even: 4, odd: 5 },\n",
      "  { even: 6, odd: 7 },\n",
      "  { even: 8, odd: 9 }\n",
      "]\n"
     ]
    }
   ],
   "source": [
    "var evens = [2,4,6,8,];\n",
    "var nums = evens.map(v=>v+1);\n",
    "var pairs = evens.map(v=> ({even : v, odd : v+1}));\n",
    "\n",
    "console.log(nums);\n",
    "console.log(pairs);"
   ]
  },
  {
   "cell_type": "markdown",
   "metadata": {},
   "source": [
    "# Enhanced Object Literals : 더 간단해진 객체 속성 정의\n",
    "\n",
    "ES6 에서는 보다 쉽게 객체 속성을 정의할 수 있게 되었다. 메서드, super클래스 호출을 지원하도록 향상되었다.\n",
    "\n",
    "* 프로토타입 설정\n",
    "* foo:foo (속성의 키와 값이 같은 경우) 를 위한 단축 표기\n",
    "* 메서드 정의\n",
    "* super 클래스 호출\n",
    "* 식으로 속성명을 지정"
   ]
  },
  {
   "cell_type": "code",
   "execution_count": 10,
   "metadata": {},
   "outputs": [
    {
     "ename": "ReferenceError",
     "evalue": "handler is not defined",
     "output_type": "error",
     "traceback": [
      "evalmachine.<anonymous>:3",
      "    handler,",
      "    ^",
      "",
      "ReferenceError: handler is not defined",
      "    at evalmachine.<anonymous>:3:5",
      "    at Script.runInThisContext (vm.js:131:18)",
      "    at Object.runInThisContext (vm.js:295:38)",
      "    at run ([eval]:1054:15)",
      "    at onRunRequest ([eval]:888:18)",
      "    at onMessage ([eval]:848:13)",
      "    at process.emit (events.js:314:20)",
      "    at emit (internal/child_process.js:906:12)",
      "    at processTicksAndRejections (internal/process/task_queues.js:81:21)"
     ]
    }
   ],
   "source": [
    "//\n",
    "\n",
    "const obj = {\n",
    "    // __proto__\n",
    "    handler,\n",
    "    [`prop_`+(()=>42)()]:42\n",
    "}\n",
    "\n",
    "let obj_1 = new obj();\n",
    "console.log(obj_1);"
   ]
  },
  {
   "cell_type": "code",
   "execution_count": null,
   "metadata": {},
   "outputs": [],
   "source": []
  }
 ],
 "metadata": {
  "kernelspec": {
   "display_name": "Javascript (Node.js)",
   "language": "javascript",
   "name": "javascript"
  },
  "language_info": {
   "file_extension": ".js",
   "mimetype": "application/javascript",
   "name": "javascript",
   "version": "14.5.0"
  }
 },
 "nbformat": 4,
 "nbformat_minor": 4
}
