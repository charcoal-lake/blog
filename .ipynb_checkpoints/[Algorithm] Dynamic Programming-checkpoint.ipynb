{
 "cells": [
  {
   "cell_type": "markdown",
   "metadata": {
    "toc": true
   },
   "source": [
    "<h1>Table of Contents<span class=\"tocSkip\"></span></h1>\n",
    "<div class=\"toc\"><ul class=\"toc-item\"><li><span><a href=\"#동적-계획법-vs-분할정복\" data-toc-modified-id=\"동적-계획법-vs-분할정복-1\"><span class=\"toc-item-num\">1&nbsp;&nbsp;</span>동적 계획법 vs 분할정복</a></span></li><li><span><a href=\"#동적계획법과-Optimality-(최적화)-문제\" data-toc-modified-id=\"동적계획법과-Optimality-(최적화)-문제-2\"><span class=\"toc-item-num\">2&nbsp;&nbsp;</span>동적계획법과 Optimality (최적화) 문제</a></span></li><li><span><a href=\"#동적계획법과-Greedy-Algorithm\" data-toc-modified-id=\"동적계획법과-Greedy-Algorithm-3\"><span class=\"toc-item-num\">3&nbsp;&nbsp;</span>동적계획법과 Greedy Algorithm</a></span><ul class=\"toc-item\"><li><span><a href=\"#탐욕법-(Greedy-Algorithm)\" data-toc-modified-id=\"탐욕법-(Greedy-Algorithm)-3.1\"><span class=\"toc-item-num\">3.1&nbsp;&nbsp;</span>탐욕법 (Greedy Algorithm)</a></span></li><li><span><a href=\"#동적계획-vs-Greedy-Algorithm\" data-toc-modified-id=\"동적계획-vs-Greedy-Algorithm-3.2\"><span class=\"toc-item-num\">3.2&nbsp;&nbsp;</span>동적계획 vs Greedy Algorithm</a></span></li></ul></li><li><span><a href=\"#동적계획법-대표-문제\" data-toc-modified-id=\"동적계획법-대표-문제-4\"><span class=\"toc-item-num\">4&nbsp;&nbsp;</span>동적계획법 대표 문제</a></span><ul class=\"toc-item\"><li><span><a href=\"#이항계수-구하기-(combination)\" data-toc-modified-id=\"이항계수-구하기-(combination)-4.1\"><span class=\"toc-item-num\">4.1&nbsp;&nbsp;</span>이항계수 구하기 (combination)</a></span></li></ul></li><li><span><a href=\"#동적계획법-대표-문제\" data-toc-modified-id=\"동적계획법-대표-문제-5\"><span class=\"toc-item-num\">5&nbsp;&nbsp;</span>동적계획법 대표 문제</a></span><ul class=\"toc-item\"><li><span><a href=\"#이항계수-구하기-(combination)\" data-toc-modified-id=\"이항계수-구하기-(combination)-5.1\"><span class=\"toc-item-num\">5.1&nbsp;&nbsp;</span>이항계수 구하기 (combination)</a></span></li><li><span><a href=\"#프로이드의-최단경로-알고리즘*\" data-toc-modified-id=\"프로이드의-최단경로-알고리즘*-5.2\"><span class=\"toc-item-num\">5.2&nbsp;&nbsp;</span>프로이드의 최단경로 알고리즘*</a></span></li><li><span><a href=\"#연쇄-행렬-곱셈\" data-toc-modified-id=\"연쇄-행렬-곱셈-5.3\"><span class=\"toc-item-num\">5.3&nbsp;&nbsp;</span>연쇄 행렬 곱셈</a></span></li><li><span><a href=\"#최적-이분검색트리-(Optimal-Binary-Search-Tree)\" data-toc-modified-id=\"최적-이분검색트리-(Optimal-Binary-Search-Tree)-5.4\"><span class=\"toc-item-num\">5.4&nbsp;&nbsp;</span>최적 이분검색트리 (Optimal Binary Search Tree)</a></span></li><li><span><a href=\"#Traveling-Sales-Person-Problem\" data-toc-modified-id=\"Traveling-Sales-Person-Problem-5.5\"><span class=\"toc-item-num\">5.5&nbsp;&nbsp;</span>Traveling Sales Person Problem</a></span></li><li><span><a href=\"#DNA-서열-정렬-+-편집거리-문제\" data-toc-modified-id=\"DNA-서열-정렬-+-편집거리-문제-5.6\"><span class=\"toc-item-num\">5.6&nbsp;&nbsp;</span>DNA 서열 정렬 + 편집거리 문제</a></span></li></ul></li></ul></div>"
   ]
  },
  {
   "cell_type": "markdown",
   "metadata": {},
   "source": [
    "# Dynamic Programming\n",
    "\n",
    "\n",
    "## 동적 계획법 vs 분할정복\n",
    "\n",
    "분할정복과 동적계획법은 아주 밀접한 관계가 있다. 분할정복은 `top-down` 방식이고, 동적계획법은 `bottom-up` 방식이다. 또한 동적계획법은 반복적인 연산을 피하기 위해 이미 연산된 데이터를 `cache`(캐시)에 저장한다.\n",
    "\n",
    "분할정복의 대표적인 알고리즘에는 **mergesort**, **quick sort**, **쉬트라센의 행렬곱셈 알고리즘** 이 있다.<br>\n",
    "가장 대표적인 **merge sort**의 알고리즘은 그림과 같이 **큰 문제를 분할하여 들어간 뒤, 작은 문제들로 해결한다**.\n",
    "\n",
    "![mergesort](image/dp/mergesort.jpg)\n",
    "\n",
    "반대로, 동적계획법은 **작은 문제부터 출발하여 큰 문제를 해결한다**. 따라서 점화식이 사용된다. 또한 중요한 특징으로 '캐시'를 사용한다는 점이 있는데, 캐시를 사용하지 않을 경우 재귀적 알고리즘에 불과하지만 캐시를 사용함으로써 동적계획법은 압도적인 효율을 보여준다. 대표적인 동적계획법 알고리즘에는 **피보나치 수 구하기**, **이항계수 구하기**, **프로이드의 최단경로 알고리즘**, **연쇄 행렬 곱셈**, **최적 이분검색트리**, **외판원 문제(travling salesperson problem)**, **DNA 서열 문제** 등이 있으며 대부분의 문제들은 동적 계획법으로 해결이 가능하다는 점에서 매우 강력한 알고리즘이다.\n",
    "\n",
    "가장 대표적인 **피보나치 수 구하기** 알고리즘은 다음과 같이 **작은 문제부터 기록을 시작하여 큰 문제를 해결한다**.\n",
    "\n",
    "![fibonacci](image/dp/fibo.jpg)\n",
    "\n",
    "***\n",
    "\n",
    "동적계획법의 개발 단계는 다음과 같다.\n",
    "1. 문제의 입력 사례에 대해서 `recursive property`(점화식)을 세운다.\n",
    "2. 작은 입력 사례부터 먼저 해결하는 상향식 방법으로 전체 입력 사례에 대한 해답을 구한다.\n",
    "\n"
   ]
  },
  {
   "cell_type": "code",
   "execution_count": 14,
   "metadata": {},
   "outputs": [
    {
     "name": "stdout",
     "output_type": "stream",
     "text": [
      "2  3  5  8  13  21  34  55  89  \n",
      "89"
     ]
    }
   ],
   "source": [
    "// fibonacci dp\n",
    "#include <stdlib.h>\n",
    "#include <stdio.h>\n",
    "\n",
    "int main(){\n",
    "\n",
    "    int n, *fib, i;\n",
    "    n = 10;\n",
    "    fib = (int*)malloc(sizeof(int)*(n+1));\n",
    "    fib[0] = fib[1] = 1;\n",
    "    \n",
    "    for(i=2; i<=n; i++){\n",
    "        fib[i] = fib[i-1]+fib[i-2];\n",
    "        printf(\"%d  \", fib[i]);\n",
    "    }\n",
    "    printf(\"\\n%d\", fib[n]);\n",
    "    \n",
    "    return 0;\n",
    "\n",
    "}\n"
   ]
  },
  {
   "cell_type": "code",
   "execution_count": 17,
   "metadata": {},
   "outputs": [
    {
     "name": "stdout",
     "output_type": "stream",
     "text": [
      "89"
     ]
    }
   ],
   "source": [
    "// fibonacci recursive approach\n",
    "#include <stdlib.h>\n",
    "#include <stdio.h>\n",
    "\n",
    "int fibo(n){\n",
    "    if(n == 1 || n==0) return 1;\n",
    "    else return fibo(n-1)+fibo(n-2);\n",
    "}\n",
    "\n",
    "int main(){\n",
    "\n",
    "    int n = 10;\n",
    "    printf(\"%d\", fibo(n));\n",
    "    return 0;\n",
    "}\n",
    "\n"
   ]
  },
  {
   "cell_type": "markdown",
   "metadata": {},
   "source": [
    "## 동적계획법과 Optimality (최적화) 문제\n",
    "\n",
    "모든 최적화 문제를 동적계획법으로 풀 수는 없다. 즉, **동적계획법의 해가 언제나 최적해(Optimal) 은 아니다**.<br>\n",
    "동적계획법의 해가 최적이기 위해서는 다음의 원칙이 성립해야 한다.\n",
    "\n",
    "`어떤 문제의 입력 사례의 최적해가 그 입력 사례를 분할한 부분 사례에 대한 최적해를 항상 포함하고 있으면, 그 문제는 최적의 원칙 (principle of optimality)이 성립한다고 한다.`\n",
    "\n",
    "풀어서 설명하면, 어떤 문제 A를 B와 C로 분할 했을 때, B와 C의 최적해를 A의 최적해가 항상 포함하고 있으면 principle of optimality가 만족이 된다.\n"
   ]
  },
  {
   "cell_type": "markdown",
   "metadata": {},
   "source": [
    "## 동적계획법과 Greedy Algorithm\n",
    "\n",
    "345원을 거슬러줘야 할 때\n",
    "* 동전이 5, 10, 50, 100, 500 으로 나뉘어 있는 경우 커다란 동전으로 나누어 구하면 끝이 난다. 그 이유는 모든 동전이 그것보다 작은 동전으로 정확하게 분할이 가능하기 때문이다. (Greedy Algorithm)\n",
    "* 그러나 동전이 1, 3, 7, 11, 20, 100 으로 나뉘어 있는 경우 위가 성립하지 않는다. 예를 들어 6원을 거슬러 줘야 하는 경우 3원짜리 동전 2개면 최적이다. 위의 알고리즘을 사용하여 7원을 거슬러 주려면 3원짜리 동전 두개와 1원짜리 동전 두개가 되는데, 7월짜리 동전 한개를 거슬러주는 것이 더 효율적이므로 이는 최적이 아니다. 따라서 동적 계획법을 사용하여 해결하여야 한다.\n",
    "\n",
    "### 탐욕법 (Greedy Algorithm)\n",
    "\n",
    "그 상황에서 최적인 해를 사용하여 답을 구하는 방법이다. 그리디 알고리즘을 사용한 개발 과정을 다음과 같다.\n",
    "\n",
    "1. 해 선택 (selection) : 당장 가장 최적인 해를 구한다.\n",
    "2. 적절성 검사 (feasibility check) : 새로운 부분해 집합이 적절한지 검사한다.\n",
    "3. 해 검사 (solution check) : 새로운 부분해 집합이 문제의 해가 되는지 검사한다. 아직 문제의 해가 완성되지 않았다면 1번부터 다시 시작한다.\n",
    "\n",
    "대표적인 그리디 알고리즘 문제에는 **최소수 동전 거스름돈 문제**가 있으며, 그리디 알고리즘을 활용한 알고리즘에는 **최소 비용 신장 트리, 크루스칼 알고리즘, 프림 알고리즘** 등이 있다. 이 알고리즘에 대한 내용은 경로찾기 문제 등에서 다시 알아보기로 한다."
   ]
  },
  {
   "cell_type": "markdown",
   "metadata": {},
   "source": [
    "### 동적계획 vs Greedy Algorithm\n",
    "\n",
    "이제 앞에서 거론된 문제를 각각의 알고리즘으로 해결해보면 다음과 같다."
   ]
  },
  {
   "cell_type": "code",
   "execution_count": 33,
   "metadata": {},
   "outputs": [
    {
     "name": "stdout",
     "output_type": "stream",
     "text": [
      "6"
     ]
    }
   ],
   "source": [
    "// Greedy\n",
    "#include <stdlib.h>\n",
    "#include <stdio.h>\n",
    "\n",
    "int main(){\n",
    "\n",
    "    int coin[4] = {1, 5, 10, 16};\n",
    "    int n = 25, count = 0, i=5;\n",
    "    \n",
    "    while(i >= 0){\n",
    "        count += n/coin[i];\n",
    "        n = n%coin[i];\n",
    "        i--;\n",
    "    }\n",
    "    \n",
    "    printf(\"%d\", count);\n",
    "    return 0;\n",
    "\n",
    "}\n"
   ]
  },
  {
   "cell_type": "code",
   "execution_count": 46,
   "metadata": {},
   "outputs": [
    {
     "name": "stdout",
     "output_type": "stream",
     "text": [
      "2  3  4  1  2  3  4  5  1  2  3  4  5  3  1  2  3  4  2  3  4  5  6  5  \n",
      "\n",
      "5"
     ]
    }
   ],
   "source": [
    "// DP\n",
    "#include <stdlib.h>\n",
    "#include <stdio.h>\n",
    "#include <string.h>\n",
    "\n",
    "int main(){\n",
    "\n",
    "    int coin[4] = {1, 5, 10, 16};\n",
    "    int n = 25;\n",
    "    int* count, count_len=0, i=0, j=4;\n",
    "    \n",
    "    count = (int*)malloc(sizeof(int)*(n+1));\n",
    "    \n",
    "\n",
    "    for(i=0; i<=n; i++)\n",
    "        count[i] = 1000;\n",
    "    \n",
    "    count[0]=0;\n",
    "    count[1]=1;\n",
    "\n",
    "    for(i=2; i<=n; i++){\n",
    "        for(j=0; j<4; j++){\n",
    "            if(i%coin[j]==0){\n",
    "                count[i] = (count[i-1]+1<i/coin[j])?(count[i-1]+1):(i/coin[j]);\n",
    "            }\n",
    "            else {\n",
    "                if(count[i] > count[i-1]+1) count[i] = count[i-1]+1;\n",
    "            }\n",
    "        }\n",
    "        printf(\"%d  \", count[i]);\n",
    "    }\n",
    "\n",
    "    printf(\"\\n\\n%d\", count[25]);\n",
    "    \n",
    "    return 0;\n",
    "\n",
    "}"
   ]
  },
  {
   "cell_type": "markdown",
   "metadata": {},
   "source": [
    "## 동적계획법 대표 문제\n",
    "\n",
    "### 이항계수 구하기 (combination)\n",
    "\n",
    "이항계수의 일반항과 점화식을 수학적으로 정의하면 다음과 같다.\n",
    "\n",
    "`nCk = n! / k!(n-k)!`<br>\n",
    "`nCk = (n-1)C(k-1) + (n-1)C(k) (단, k=0 또는 k=n 인 경우 1)` \n",
    "\n",
    "피보나치와 동일하므로 설명 생략 (hint. 이차원 배열)"
   ]
  },
  {
   "cell_type": "markdown",
   "metadata": {},
   "source": [
    "### 프로이드의 최단경로 알고리즘*\n",
    "\n",
    "\n",
    "\n",
    "### 연쇄 행렬 곱셈\n",
    "\n",
    "### 최적 이분검색트리 (Optimal Binary Search Tree)\n",
    "\n",
    "### Traveling Sales Person Problem\n",
    "\n",
    "### DNA 서열 정렬 + 편집거리 문제"
   ]
  },
  {
   "cell_type": "code",
   "execution_count": null,
   "metadata": {},
   "outputs": [],
   "source": []
  }
 ],
 "metadata": {
  "kernelspec": {
   "display_name": "C",
   "language": "c",
   "name": "c"
  },
  "language_info": {
   "file_extension": ".c",
   "mimetype": "text/plain",
   "name": "c"
  },
  "toc": {
   "base_numbering": 1,
   "nav_menu": {},
   "number_sections": true,
   "sideBar": true,
   "skip_h1_title": true,
   "title_cell": "Table of Contents",
   "title_sidebar": "Contents",
   "toc_cell": true,
   "toc_position": {},
   "toc_section_display": true,
   "toc_window_display": false
  }
 },
 "nbformat": 4,
 "nbformat_minor": 4
}
