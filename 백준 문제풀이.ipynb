{
 "cells": [
  {
   "cell_type": "markdown",
   "metadata": {
    "toc": true
   },
   "source": [
    "<h1>Table of Contents<span class=\"tocSkip\"></span></h1>\n",
    "<div class=\"toc\"><ul class=\"toc-item\"></ul></div>"
   ]
  },
  {
   "cell_type": "code",
   "execution_count": 26,
   "metadata": {},
   "outputs": [
    {
     "name": "stdout",
     "output_type": "stream",
     "text": [
      "10\n",
      "3\n"
     ]
    }
   ],
   "source": [
    "\n",
    "n = input()\n",
    "n = int(n)\n",
    "opt = [-1 for i in range(n+1)]\n",
    "\n",
    "opt[0] = -1;\n",
    "opt[1] = 0;\n",
    "opt[2] = 1;\n",
    "opt[3] = 1;\n",
    "\n",
    "for i in range(1,n+1):\n",
    "    if opt[i] == -1:\n",
    "        if i%3 == 0:\n",
    "            if opt[i-1] >= opt[i//3]:\n",
    "                opt[i] = opt[i//3]+1\n",
    "            else:\n",
    "                opt[i] = opt[i-1]+1\n",
    "        elif i%2 == 0:\n",
    "            if opt[i-1] >= opt[i//2]:\n",
    "                opt[i] = opt[i//2]+1\n",
    "            else:\n",
    "                opt[i] = opt[i-1]+1\n",
    "        else :\n",
    "            opt[i] = opt[i-1]+1\n",
    "\n",
    "print(opt[n])\n"
   ]
  },
  {
   "cell_type": "code",
   "execution_count": null,
   "metadata": {},
   "outputs": [],
   "source": []
  },
  {
   "cell_type": "code",
   "execution_count": null,
   "metadata": {},
   "outputs": [],
   "source": []
  }
 ],
 "metadata": {
  "kernelspec": {
   "display_name": "Python 3",
   "language": "python",
   "name": "python3"
  },
  "language_info": {
   "codemirror_mode": {
    "name": "ipython",
    "version": 3
   },
   "file_extension": ".py",
   "mimetype": "text/x-python",
   "name": "python",
   "nbconvert_exporter": "python",
   "pygments_lexer": "ipython3",
   "version": "3.7.4"
  },
  "toc": {
   "base_numbering": 1,
   "nav_menu": {},
   "number_sections": true,
   "sideBar": true,
   "skip_h1_title": true,
   "title_cell": "Table of Contents",
   "title_sidebar": "Contents",
   "toc_cell": true,
   "toc_position": {},
   "toc_section_display": true,
   "toc_window_display": false
  }
 },
 "nbformat": 4,
 "nbformat_minor": 4
}
