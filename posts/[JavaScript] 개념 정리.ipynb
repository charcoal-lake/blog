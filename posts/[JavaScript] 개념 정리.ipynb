{
 "cells": [
  {
   "cell_type": "markdown",
   "metadata": {
    "toc": true
   },
   "source": [
    "<h1>Table of Contents<span class=\"tocSkip\"></span></h1>\n",
    "<div class=\"toc\"><ul class=\"toc-item\"><li><span><a href=\"#동기식-처리-vs-비동기식-처리-(작성중)\" data-toc-modified-id=\"동기식-처리-vs-비동기식-처리-(작성중)-1\"><span class=\"toc-item-num\">1&nbsp;&nbsp;</span>동기식 처리 vs 비동기식 처리 (작성중)</a></span><ul class=\"toc-item\"><li><span><a href=\"#비동기-처리\" data-toc-modified-id=\"비동기-처리-1.1\"><span class=\"toc-item-num\">1.1&nbsp;&nbsp;</span>비동기 처리</a></span></li></ul></li><li><span><a href=\"#콜백-함수-(Callback)\" data-toc-modified-id=\"콜백-함수-(Callback)-2\"><span class=\"toc-item-num\">2&nbsp;&nbsp;</span>콜백 함수 (Callback)</a></span><ul class=\"toc-item\"><li><span><a href=\"#왜-콜백-함수를-사용하는가\" data-toc-modified-id=\"왜-콜백-함수를-사용하는가-2.1\"><span class=\"toc-item-num\">2.1&nbsp;&nbsp;</span>왜 콜백 함수를 사용하는가</a></span></li><li><span><a href=\"#콜백-함수-예제\" data-toc-modified-id=\"콜백-함수-예제-2.2\"><span class=\"toc-item-num\">2.2&nbsp;&nbsp;</span>콜백 함수 예제</a></span><ul class=\"toc-item\"><li><span><a href=\"#콜백-함수와-this-객체\" data-toc-modified-id=\"콜백-함수와-this-객체-2.2.1\"><span class=\"toc-item-num\">2.2.1&nbsp;&nbsp;</span>콜백 함수와 this 객체</a></span></li></ul></li></ul></li><li><span><a href=\"#객체와-클래스\" data-toc-modified-id=\"객체와-클래스-3\"><span class=\"toc-item-num\">3&nbsp;&nbsp;</span>객체와 클래스</a></span></li></ul></div>"
   ]
  },
  {
   "cell_type": "markdown",
   "metadata": {},
   "source": [
    "# JavaScript 개념 정리\n",
    "\n",
    "본 글에서는 JavaScript를 학습하는데 필요한 이론들의 개념을 정리한다.\n",
    "\n",
    "---\n"
   ]
  },
  {
   "cell_type": "markdown",
   "metadata": {},
   "source": [
    "## 동기식 처리 vs 비동기식 처리 (작성중)\n",
    "\n",
    "### 비동기 처리\n",
    "자바스크립트에서 비동기 처리란 특정 코드의 연산이 끝날 때까지 코드의 실행을 멈추지 않고 다음 코드들 먼저 실행하는 자바스크립트의 특성을 말한다.\n",
    "\n"
   ]
  },
  {
   "cell_type": "markdown",
   "metadata": {},
   "source": [
    "## 콜백 함수 (Callback)\n",
    "\n",
    "**콜백함수**란 어떤 특정한 시점에 호출되는 함수를 뜻한다.<br>\n",
    "보통 콜백함수는 다른 함수의 매개변수로 전달되어, 특정 시점에 콜백 함수가 호출되게 된다. 예를 들어 덧셈을 위한 함수 `plus` 와 결과를 출력하기 위한 함수 `result`가 있을 때, `result`가 수행되기 위해서는 `plus` 안의 연산이 끝나야 한다. 이를 표현해보면 아래와 같다."
   ]
  },
  {
   "cell_type": "code",
   "execution_count": 1,
   "metadata": {},
   "outputs": [
    {
     "name": "stdout",
     "output_type": "stream",
     "text": [
      "3\n"
     ]
    }
   ],
   "source": [
    "function plus(a, b, callback){\n",
    "    var sum = a+b;\n",
    "    callback(sum);\n",
    "}\n",
    "\n",
    "plus(1, 2, function(result){ console.log(result); })"
   ]
  },
  {
   "cell_type": "markdown",
   "metadata": {},
   "source": [
    "### 왜 콜백 함수를 사용하는가\n",
    "\n",
    "그렇다면 왜 콜백함수를 사용할까. 그냥 함수를 순차적으로 호출해도 되지 않을까? 콜백함수를 사용하는 것과 사용하지 않는 것의 차이는 다음 코드에서 볼 수 있다."
   ]
  },
  {
   "cell_type": "code",
   "execution_count": 3,
   "metadata": {},
   "outputs": [
    {
     "name": "stdout",
     "output_type": "stream",
     "text": [
      "3\n"
     ]
    }
   ],
   "source": [
    "function plus2(a, b){\n",
    "    var sum2 = a+b;\n",
    "    return sum2;\n",
    "}\n",
    "\n",
    "function print(result2){\n",
    "    console.log(result2);\n",
    "}\n",
    "\n",
    "print(plus2(1,2));"
   ]
  },
  {
   "cell_type": "markdown",
   "metadata": {},
   "source": [
    "`plus`함수는 콜백함수를 사용하고, `plus2` 함수는 콜백함수를 사용하지 않는다.<br>\n",
    "똑같이 결과를 출력하기 위해서 `print`는 `plus2`의 처리를 기다려야 하는 반면 `callback`는 `plus`가 끝나고 나면 실행이 된다. 만약 `plus`가 발생하지 않는다면 `callback`도 일어나지 않는 반면, `print`는 `plus2`가 일어날지 일어나지 않을지 결정된 후에야 실행된다. 여기서 속도의 차이가 발생한다.\n",
    "\n",
    "콜백함수를 사용하면 처리가 끝날때까지 기다리지 않기 때문에 정말로 필요할 때에만 함수를 호출하여 효율이 좋고 여러가지 동작을 동시에 처리할 수 있게 된다. 이와같은 처리 방식을 **비동기식 처리** 라고 한다."
   ]
  },
  {
   "cell_type": "markdown",
   "metadata": {},
   "source": [
    "### 콜백 함수 예제\n",
    "\n",
    "#### 콜백 함수와 this 객체\n",
    "콜백함수를 사용할 때에는 `this`에 주의해야 한다.<br>\n",
    "`callback2`는 잘못된 사용예이다. `callback2(\"example.com\", obj.setEmail);` 부분에서 콜백 함수를 통해 `obj.setEmail(\"example.com\")` 이 실행되기를 기대했겠지만 `this`가 전역 객체인 `window`가 되기 때문에 제대로 실행이 되지 않는다. (\"empty\"가 출력된다)\n",
    "\n",
    "따라서 `call`, `apply` 메서드를 사용하여 `this` 객체를 명확히 해야 한다."
   ]
  },
  {
   "cell_type": "code",
   "execution_count": 8,
   "metadata": {},
   "outputs": [
    {
     "name": "stdout",
     "output_type": "stream",
     "text": [
      "empty\n"
     ]
    }
   ],
   "source": [
    "var obj={\n",
    "    name:\"victolee\", email:\"empty\",\n",
    "    setEmail(email){\n",
    "        this.email=email;\n",
    "    }\n",
    "}\n",
    "\n",
    "function callback2(email, cb){\n",
    "    cb(email);\n",
    "}\n",
    "\n",
    "callback2(\"example.com\", obj.setEmail);\n",
    "console.log(obj.email);"
   ]
  },
  {
   "cell_type": "code",
   "execution_count": 9,
   "metadata": {},
   "outputs": [
    {
     "name": "stdout",
     "output_type": "stream",
     "text": [
      "example.com\n"
     ]
    }
   ],
   "source": [
    "function callback3(email, cb){\n",
    "    cb.call(obj, email);\n",
    "}\n",
    "\n",
    "callback3(\"example.com\", obj.setEmail);\n",
    "console.log(obj.email);"
   ]
  },
  {
   "cell_type": "markdown",
   "metadata": {},
   "source": [
    "## 객체와 클래스"
   ]
  },
  {
   "cell_type": "code",
   "execution_count": null,
   "metadata": {},
   "outputs": [],
   "source": []
  }
 ],
 "metadata": {
  "kernelspec": {
   "display_name": "Javascript (Node.js)",
   "language": "javascript",
   "name": "javascript"
  },
  "language_info": {
   "file_extension": ".js",
   "mimetype": "application/javascript",
   "name": "javascript",
   "version": "14.5.0"
  },
  "toc": {
   "base_numbering": 1,
   "nav_menu": {},
   "number_sections": true,
   "sideBar": true,
   "skip_h1_title": true,
   "title_cell": "Table of Contents",
   "title_sidebar": "Contents",
   "toc_cell": true,
   "toc_position": {},
   "toc_section_display": true,
   "toc_window_display": false
  }
 },
 "nbformat": 4,
 "nbformat_minor": 4
}
