{
 "cells": [
  {
   "cell_type": "markdown",
   "metadata": {
    "toc": true
   },
   "source": [
    "<h1>Table of Contents<span class=\"tocSkip\"></span></h1>\n",
    "<div class=\"toc\"><ul class=\"toc-item\"><li><span><a href=\"#Minimum-Spanning-Tree-(MST)\" data-toc-modified-id=\"Minimum-Spanning-Tree-(MST)-1\"><span class=\"toc-item-num\">1&nbsp;&nbsp;</span>Minimum Spanning Tree (MST)</a></span></li></ul></div>"
   ]
  },
  {
   "cell_type": "markdown",
   "metadata": {},
   "source": [
    "# Greedy Algorithm (탐욕법)\n",
    "\n",
    "그리디 알고리즘은 그 상황에서 가장 좋은 것을 선택한다. 여기서 '가장 좋은 것' 이란 optimal 한 것을 말하며 이는 최대가 될 수도 최소가 될 수도 있다. 앞서 공부했던 Dynamic Programming의 예제에서 이미 본 **동전 거슬러주기 문제**에서, 가장 큰 동전부터 선택하여 거슬러주는 방법이 그리디 알고리즘에 해당한다.\n",
    "\n",
    "그리디 알고리즘의 가장 대표적인 문제로는 **minimum spanning tree(최소 비용 신장 트리)를 이용한 프림 알고리즘, 크루스칼 알고리즘, 그리고 다익스트라 알고리즘, 스케줄 짜기 문제, 허프만코드, 배낭채우기 문제**가 있으며 배낭채우기 문제는 동적계획으로도 풀 수 있기 때문에 이 방법 또한 살펴보기로 한다.\n",
    "\n",
    "## Minimum Spanning Tree (MST)\n",
    "\n"
   ]
  },
  {
   "cell_type": "code",
   "execution_count": null,
   "metadata": {},
   "outputs": [],
   "source": []
  }
 ],
 "metadata": {
  "kernelspec": {
   "display_name": "C",
   "language": "c",
   "name": "c"
  },
  "language_info": {
   "file_extension": ".c",
   "mimetype": "text/plain",
   "name": "c"
  },
  "toc": {
   "base_numbering": 1,
   "nav_menu": {},
   "number_sections": true,
   "sideBar": true,
   "skip_h1_title": true,
   "title_cell": "Table of Contents",
   "title_sidebar": "Contents",
   "toc_cell": true,
   "toc_position": {},
   "toc_section_display": true,
   "toc_window_display": false
  }
 },
 "nbformat": 4,
 "nbformat_minor": 4
}
