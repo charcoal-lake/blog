{
  "nbformat": 4,
  "nbformat_minor": 0,
  "metadata": {
    "colab": {
      "name": "Kakao.ipynb",
      "provenance": [],
      "collapsed_sections": []
    },
    "kernelspec": {
      "name": "python3",
      "display_name": "Python 3"
    }
  },
  "cells": [
    {
      "cell_type": "markdown",
      "metadata": {
        "id": "JGcdG2HQOdza",
        "colab_type": "text"
      },
      "source": [
        "# 카카오 2020 가을 인턴 코딩 테스트\n",
        "문제가 영어라 받아적기 애매함...\n",
        "\n",
        "### 문제 1. \n",
        "마트 판매 제품에 대한 물건 리스트, 가격 리스트, 팔린 물건 리스트, 판매 가격 리스트가 주어진다. 물건을 팔 때 가격은 수기로 입력하기 때문에 오류가 있을 수 있다. 이 때 오류 발생 여부를 체크하는 `priceCheck` 함수를 완성하시오.\n",
        "\n",
        "```py\n",
        "# 입력 데이터\n",
        "products = ['eggs', 'milk', 'cheese']\n",
        "prices = [2.89, 3.29, 5.79]\n",
        "solds = ['eggs', 'eggs', 'cheese', 'milk']\n",
        "soldPrices = [2.89, 2.99, 5.97, 3.29]\n",
        "```\n",
        "\n",
        "```py\n",
        "# 반환 데이터\n",
        "[0, 1, 1, 0]\n",
        "```\n"
      ]
    },
    {
      "cell_type": "code",
      "metadata": {
        "id": "_NhSfjYtLHKv",
        "colab_type": "code",
        "cellView": "both",
        "colab": {}
      },
      "source": [
        "products = ['eggs', 'milk', 'cheese']\n",
        "prices = [2.89, 3.29, 5.79]\n",
        "solds = ['eggs', 'eggs', 'cheese', 'milk']\n",
        "soldPrices = [2.89, 2.99, 5.97, 3.29]\n",
        "answer_1 = [0, 1, 1, 0]"
      ],
      "execution_count": null,
      "outputs": []
    },
    {
      "cell_type": "code",
      "metadata": {
        "id": "sPcEMhMyXBk9",
        "colab_type": "code",
        "colab": {}
      },
      "source": [
        "def priceCheck(products, productPrices, productSold, soldPrices):\n",
        "  pass"
      ],
      "execution_count": null,
      "outputs": []
    },
    {
      "cell_type": "code",
      "metadata": {
        "id": "aM83LPwmLFVE",
        "colab_type": "code",
        "cellView": "form",
        "colab": {}
      },
      "source": [
        "#@title\n",
        "def priceCheck(products, productPrices, productSold, soldPrices):\n",
        "  proDict = {}\n",
        "  for k, v in zip(products, productPrices):\n",
        "    proDict[k] = v\n",
        "\n",
        "  answer = []\n",
        "  for k, v in zip(productSold, soldPrices):\n",
        "    answer.append(int(proDict[k] != v))\n",
        "\n",
        "  return answer"
      ],
      "execution_count": null,
      "outputs": []
    },
    {
      "cell_type": "code",
      "metadata": {
        "id": "OHoR-jApOeeV",
        "colab_type": "code",
        "cellView": "both",
        "colab": {}
      },
      "source": [
        "print('결과')\n",
        "result_1 = priceCheck(products, prices, solds, soldPrices)\n",
        "print(result_1)\n",
        "print('\\n통과')\n",
        "print(result_1 == answer_1)"
      ],
      "execution_count": null,
      "outputs": []
    },
    {
      "cell_type": "markdown",
      "metadata": {
        "id": "7XuApd4uPITo",
        "colab_type": "text"
      },
      "source": [
        "### 문제 2. 중복된 숫자 세기\n",
        "입력 시퀀스에 중복된 데이터가 있다. 가장 많이 중복된 횟수를 세어 반환하는 함수 `countDuplicate`를 완성하시오.\n",
        "\n",
        "```py\n",
        "# 입력 데이터\n",
        "[1, 3, 1, 4, 5, 6, 3, 2]\n",
        "```\n",
        "\n",
        "```py\n",
        "# 반환 데이터\n",
        "2\n",
        "```"
      ]
    },
    {
      "cell_type": "code",
      "metadata": {
        "id": "cPpKW87nPRGQ",
        "colab_type": "code",
        "colab": {}
      },
      "source": [
        "numbers = [1, 3, 1, 4, 5, 6, 3, 2]\n",
        "answer_2 = 2"
      ],
      "execution_count": null,
      "outputs": []
    },
    {
      "cell_type": "code",
      "metadata": {
        "id": "hHXNwt1IX6on",
        "colab_type": "code",
        "colab": {}
      },
      "source": [
        "def countDuplicate(numbers):\n",
        "  pass"
      ],
      "execution_count": null,
      "outputs": []
    },
    {
      "cell_type": "code",
      "metadata": {
        "id": "OreWBRRfPJxI",
        "colab_type": "code",
        "cellView": "form",
        "colab": {}
      },
      "source": [
        "#@title\n",
        "from collections import Counter\n",
        "def countDuplicate(numbers):\n",
        "  return max(Counter(numbers).items(), key=lambda x: x[1])[1]"
      ],
      "execution_count": null,
      "outputs": []
    },
    {
      "cell_type": "code",
      "metadata": {
        "id": "pm8dkT0RYQfp",
        "colab_type": "code",
        "cellView": "both",
        "colab": {}
      },
      "source": [
        "print('결과')\n",
        "result_2 = countDuplicate(numbers)\n",
        "print(result_2)\n",
        "print('\\n통과')\n",
        "print(result_2 == answer_2)"
      ],
      "execution_count": null,
      "outputs": []
    },
    {
      "cell_type": "markdown",
      "metadata": {
        "id": "ocMTPRzSS5hP",
        "colab_type": "text"
      },
      "source": [
        "### 문제 3. 할인 받는 경우의 수\n",
        "여행사에서 최소 인원 이상이 예약할 경우 할인이 적용됩니다. 각 국가마다 할인이 적용되는 최소 인원이 다르며, 아래와 같이 `FAMILIES`, `COUNTRIES` 테이블이 존재할 때 할인 받는 경우의 수를 SQL을 이용하여 구하시오.\n",
        "\n",
        "**FAMILIES**\n",
        "column | type | description\n",
        "---|---|---\n",
        "ID | str | 유일키\n",
        "NAME | str | 대표자\n",
        "FAMILY_SIZE | int | 가족 구성원 수\n",
        "\n",
        "**Example FAMILIES**\n",
        "ID | NAME | FAMILY_SIZE\n",
        "---|---|---\n",
        "s102594236 | 김동호 | 9\n",
        "s102123235 | 김동호2 | 2\n",
        "\n",
        "**COUNTRIES**\n",
        "column | type | description\n",
        "---|---|---\n",
        "ID | str | 유일키\n",
        "NAME | str | 국가 이름\n",
        "MIN_SIZE | int | 할인이 적용되는 최소 인원\n",
        "\n",
        "**Example COUNTRIES**\n",
        "ID | NAME | MIN_SIZE\n",
        "---|---|---\n",
        "n1230515 | 호주 | 2\n",
        "n1593563 | 캐나다 | 4\n",
        "n1514553 | 헝가리 | 4\n",
        "\n",
        "예시 데이터에서 모든 가족이 할인 받는 경우의 수는 3가지."
      ]
    },
    {
      "cell_type": "code",
      "metadata": {
        "id": "L9fOdmxXPmqc",
        "colab_type": "code",
        "colab": {}
      },
      "source": [
        ""
      ],
      "execution_count": null,
      "outputs": []
    },
    {
      "cell_type": "markdown",
      "metadata": {
        "id": "-3hxU4HBS6z2",
        "colab_type": "text"
      },
      "source": [
        "### 문제 4. Prison Break\n",
        "당신은 감옥에 갖혔다! 다행히 감옥이 오래되어 쇠창살이 떨어져 나간 부분이 있다. 가장 큰 구멍을 찾아 탈출해야 한다. 행의 수(=n), 열의 수(=m), 행에서 쇠창살이 떨어져나간 부분 리스트(=h), 열에서 쇠창살이 떨어져나간 부분 리스트(=v)가 주어지며, 이때 가장 큰 구멍의 크기를 구하시오.\n",
        "\n",
        "```py\n",
        "# 입력 데이터 1\n",
        "n = 6\n",
        "m = 6\n",
        "h = [4]\n",
        "v = [2]\n",
        "```\n",
        "\n",
        "```py\n",
        "# 반환 데이터 1\n",
        "4\n",
        "```\n",
        "\n",
        "```py\n",
        "# 이런 그림이 첨부되어 있었음...\n",
        "    1 2 3 4 5\n",
        "  +-+---+-+-+-+\n",
        "1 +-+---+-+-+-+\n",
        "2 +-+---+-+-+-+\n",
        "3 +-+---+-+-+-+\n",
        "4 | |   | | | |\n",
        "5 +-+---+-+-+-+\n",
        "  +-+---+-+-+-+\n",
        "```\n",
        "\n",
        "```py\n",
        "# 입력 데이터 2\n",
        "n = 3\n",
        "m = 2\n",
        "h = [1, 2, 3]\n",
        "v = [1, 2]\n",
        "```\n",
        "\n",
        "```py\n",
        "# 반환 데이터 2\n",
        "12\n",
        "```\n",
        "\n",
        "```py\n",
        "# 이런 그림이 첨부되어 있었음...\n",
        "    1 2 \n",
        "  +-----+\n",
        "1 |     |\n",
        "2 |     |\n",
        "3 |     |\n",
        "  +-----+\n",
        "```"
      ]
    },
    {
      "cell_type": "code",
      "metadata": {
        "id": "7bIj4PvTWWZN",
        "colab_type": "code",
        "colab": {}
      },
      "source": [
        "test_seq_4 = [[6, 6, [4], [2]], [3, 2, [1, 2, 3], [1, 2]]]\n",
        "answer_seq_4 = [4, 12]"
      ],
      "execution_count": null,
      "outputs": []
    },
    {
      "cell_type": "code",
      "metadata": {
        "id": "yXzqUh4jefbz",
        "colab_type": "code",
        "colab": {}
      },
      "source": [
        "def prisonBreak(n, m, h, v):\n",
        "  pass"
      ],
      "execution_count": null,
      "outputs": []
    },
    {
      "cell_type": "code",
      "metadata": {
        "id": "f9bqRUoyS7uk",
        "colab_type": "code",
        "cellView": "form",
        "colab": {}
      },
      "source": [
        "#@title\n",
        "def calcMaxSize(num, lists):\n",
        "  n_left = list(range(num+2))\n",
        "  for i in lists:\n",
        "    n_left.remove(i)\n",
        "\n",
        "  max_n = max([n_left[i+1]-n_left[i] for i in range(len(n_left)-1)])\n",
        "  return max_n\n",
        "\n",
        "def prisonBreak(n, m, h, v):\n",
        "  return calcMaxSize(n, h) * calcMaxSize(m, v)"
      ],
      "execution_count": null,
      "outputs": []
    },
    {
      "cell_type": "code",
      "metadata": {
        "id": "QOOzcM8pexus",
        "colab_type": "code",
        "colab": {}
      },
      "source": [
        "print('결과\\t 통과')\n",
        "for seq, answer_4 in zip(test_seq_4, answer_seq_4):\n",
        "  n, m, h, v = seq\n",
        "  result_4 = prisonBreak(n, m, h, v)\n",
        "  print(result_4, '\\t', result_4 == answer_4)"
      ],
      "execution_count": null,
      "outputs": []
    },
    {
      "cell_type": "markdown",
      "metadata": {
        "id": "G470U0b1WrvL",
        "colab_type": "text"
      },
      "source": [
        "### 문제 5. 가장 가까운 이웃 도시\n",
        "도시의 수, 이름, 각 이름의 순서에 알맞는 x 좌표 리스트, y 좌표 리스트가 주어지고 쿼리가 주어집니다. 쿼리에는 도시 이름이 들어있으며, 해당 도시와 같은 축을 공유하고 거리가 가장 가까운 도시를 구하세요. (없으면 'None')\n",
        "\n",
        "```py\n",
        "# 입력 데이터\n",
        "n = 3\n",
        "c = ['c1', 'c2', 'c3']\n",
        "x = [3, 2, 1]\n",
        "y = [3, 2, 3]\n",
        "q = ['c1', 'c2', 'c3']\n",
        "```\n",
        "\n",
        "```py\n",
        "# 반환 데이터\n",
        "['c3', 'None', 'c1']\n",
        "```"
      ]
    },
    {
      "cell_type": "code",
      "metadata": {
        "id": "ssXXWT2wWuCX",
        "colab_type": "code",
        "colab": {}
      },
      "source": [
        "n = 3\n",
        "c = ['c1', 'c2', 'c3']\n",
        "x = [3, 2, 1]\n",
        "y = [3, 2, 3]\n",
        "q = ['c1', 'c2', 'c3']\n",
        "answer_5 = ['c3', 'None', 'c1']"
      ],
      "execution_count": null,
      "outputs": []
    },
    {
      "cell_type": "code",
      "metadata": {
        "id": "XsYGFaqUgx7W",
        "colab_type": "code",
        "colab": {}
      },
      "source": [
        "# O(n * n)으로 푸니까 타임 아웃 됨..\n",
        "# 비슷한 다른 문제의 경우 분할 정복으로 풀 면 O(n log n)이라는 듯\n",
        "def nearestCity(n, c, x, y, q):\n",
        "  pass"
      ],
      "execution_count": null,
      "outputs": []
    },
    {
      "cell_type": "code",
      "metadata": {
        "id": "BAOMx-jfW9ko",
        "colab_type": "code",
        "cellView": "form",
        "colab": {}
      },
      "source": [
        "#@title\n",
        "import math\n",
        "def nearestCity(n, c, x, y, q):\n",
        "  coord = {}; answer = []\n",
        "  for name, k, v in zip(c, x, y):\n",
        "    coord[name] = (int(k), int(v))\n",
        "\n",
        "  for src_name in q:\n",
        "    tmp = coord.copy()\n",
        "    src = tmp.pop(src_name)\n",
        "    \n",
        "    nearest = 'None'\n",
        "    nearest_dist = math.inf\n",
        "    for name, dst in tmp.items():\n",
        "      if dst[0] != src[0] and dst[1] != src[1]:\n",
        "        continue\n",
        "\n",
        "      dist = abs(dst[0] - src[0] + dst[1] - src[1])\n",
        "      if dist < nearest_dist:\n",
        "        nearest_dist = dist\n",
        "        nearest = name\n",
        "\n",
        "    answer.append(nearest)\n",
        "\n",
        "  return answer"
      ],
      "execution_count": null,
      "outputs": []
    },
    {
      "cell_type": "code",
      "metadata": {
        "id": "ITXyWaEAT0YA",
        "colab_type": "code",
        "colab": {}
      },
      "source": [
        "print('결과')\n",
        "result_5 = nearestCity(n, c, x, y, q)\n",
        "print(result_5)\n",
        "print('\\n통과')\n",
        "print(result_5 == answer_5)"
      ],
      "execution_count": null,
      "outputs": []
    },
    {
      "cell_type": "markdown",
      "metadata": {
        "id": "uF1NEAL-g3Hp",
        "colab_type": "text"
      },
      "source": [
        "### 문제 6.\n",
        "Doubly Linked List에 대한 설명으로 올바른 것을 고르시오.\n",
        "\n",
        "1. linear 혹은 circular 형태로 만들 수 있다.\n",
        "2. Header 노드를 반드시 포함하여야 한다.\n",
        "3. Linked List와 같은 메모리 공간을 차지한다.\n",
        "\n",
        "**보기**\n",
        "1. 1\n",
        "2. 2, 3\n",
        "3. 1, 2, 3\n",
        "4. 1, 3"
      ]
    },
    {
      "cell_type": "code",
      "metadata": {
        "id": "8YVxkqJ7h3-q",
        "colab_type": "code",
        "cellView": "form",
        "colab": {}
      },
      "source": [
        "#@title\n",
        "Linked List보다 포인터가 하나 많으니까 3 제외.\n",
        "Header 없어도 구현할 수 있음.\n",
        "1번 골랐음."
      ],
      "execution_count": null,
      "outputs": []
    },
    {
      "cell_type": "markdown",
      "metadata": {
        "id": "SvyRzUPWhWuo",
        "colab_type": "text"
      },
      "source": [
        "### 문제 7. Binary Tree\n",
        "2개의 child를 가질 수 있는 k개의 노드를 갖는 Binary Tree는 L개의 leaves를 갖는다. 다음 중 올바른 것을 고르시오.\n",
        "\n",
        "**보기**\n",
        "1. L = k + 1\n",
        "2. L = 2k + 1\n",
        "3. L = k - 1\n",
        "4. No relation between L, K"
      ]
    },
    {
      "cell_type": "code",
      "metadata": {
        "id": "16ABy-dnh2am",
        "colab_type": "code",
        "cellView": "form",
        "colab": {}
      },
      "source": [
        "#@title\n",
        "complete나 balanced 등 다른 조건을 표시하는 단어가 없어 기본적인 이진 트리라고 생각.\n",
        "일 자로 다섯 개 연결될 수도 있으며 이때 조건 만족 못함.\n",
        "4번 골랐음."
      ],
      "execution_count": null,
      "outputs": []
    }
  ]
}