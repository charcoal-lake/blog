{
 "cells": [
  {
   "cell_type": "markdown",
   "metadata": {},
   "source": [
    "# JavaScript ES6 문법\n",
    "\n",
    "본 내용은 다음의 자료들을 참고하였다.\n",
    "\n",
    "* Node.js 교과서\n",
    "* https://jsdev.kr/t/es6/2944\n",
    "* https://itstory.tk/entry/JavaScript-ES6-%EB%AC%B8%EB%B2%95-%EC%A0%95%EB%A6%AC\n",
    "\n",
    "\n",
    "---"
   ]
  },
  {
   "cell_type": "markdown",
   "metadata": {},
   "source": [
    "## 자료형 : let, var, const\n",
    "\n",
    "`var`는 **function-scoped** 이고\n",
    "`let`, `const` 는 **block-scoped** 이다.\n",
    "\n",
    "### var (function-scoped)\n",
    "말 그대로 함수 범위 내까지 영향을 주며, 따라서 hoisting 발생.\n",
    "예를 들어 main 함수 안에서 `var` 를 사용하게 되면, block 단위의 조건문/반복문을 벗어나도 해당 변수를 참조할 수 있게 됨. "
   ]
  },
  {
   "cell_type": "code",
   "execution_count": 1,
   "metadata": {},
   "outputs": [],
   "source": [
    "for (var j=0; j<10; j++){\n",
    "    console.log('j', j)\n",
    "}\n",
    "console.log('after loop j is ', j);"
   ]
  },
  {
   "cell_type": "markdown",
   "metadata": {},
   "source": [
    "위의 코드는 에러를 일으키지 않는다."
   ]
  },
  {
   "cell_type": "code",
   "execution_count": 2,
   "metadata": {},
   "outputs": [],
   "source": [
    "for (j=0; j<10; j++){\n",
    "    console.log('j', j);\n",
    "}\n",
    "console.log('after loop j is ', j);\n",
    "var j;"
   ]
  },
  {
   "cell_type": "markdown",
   "metadata": {},
   "source": [
    "마찬가지로 위의 코드 역시 에러를 일으키지 않는다. 위와 같은 **hoisting** 문제를 막기 위해 `use strict` 를 사용하거나, iife 를 사용할 수 있다. 그러나 **block scoped** 를 사용하면, hoisting 을 막을 수 있다.\n"
   ]
  },
  {
   "cell_type": "markdown",
   "metadata": {},
   "source": [
    "### let, const (block scoped)\n",
    "let, const는 **block scoped** 이다. 즉 특정 블락 -- 조건문 내부, 반복문 내부 등 블록 단위로만 영향을 미친다.\n",
    "\n",
    "* `let`과 `const`는 변수 재선언이 불가능하다.\n",
    "* `let`과 `const`는 `block-scope` 단위로 hoisting이 일어난다.\n",
    "* `let`은 재할당이 가능하지만, `const`는 재할당이 불가능하다.\n"
   ]
  },
  {
   "cell_type": "code",
   "execution_count": 3,
   "metadata": {},
   "outputs": [],
   "source": [
    "var a = 1;\n",
    "var a = 2;"
   ]
  },
  {
   "cell_type": "code",
   "execution_count": 4,
   "metadata": {},
   "outputs": [
    {
     "ename": "SyntaxError",
     "evalue": "Identifier 'a' has already been declared",
     "output_type": "error",
     "traceback": [
      "evalmachine.<anonymous>:2",
      "let a = 2;",
      "    ^",
      "",
      "SyntaxError: Identifier 'a' has already been declared",
      "    at new Script (vm.js:99:7)",
      "    at createScript (vm.js:247:10)",
      "    at Object.runInThisContext (vm.js:295:10)",
      "    at run ([eval]:1054:15)",
      "    at onRunRequest ([eval]:888:18)",
      "    at onMessage ([eval]:848:13)",
      "    at process.emit (events.js:314:20)",
      "    at emit (internal/child_process.js:906:12)",
      "    at processTicksAndRejections (internal/process/task_queues.js:81:21)"
     ]
    }
   ],
   "source": [
    "let a = 1;\n",
    "let a = 2;"
   ]
  },
  {
   "cell_type": "code",
   "execution_count": 5,
   "metadata": {},
   "outputs": [
    {
     "ename": "SyntaxError",
     "evalue": "Identifier 'a' has already been declared",
     "output_type": "error",
     "traceback": [
      "evalmachine.<anonymous>:1",
      "const a= 1;",
      "^",
      "",
      "SyntaxError: Identifier 'a' has already been declared",
      "    at Script.runInThisContext (vm.js:131:18)",
      "    at Object.runInThisContext (vm.js:295:38)",
      "    at run ([eval]:1054:15)",
      "    at onRunRequest ([eval]:888:18)",
      "    at onMessage ([eval]:848:13)",
      "    at process.emit (events.js:314:20)",
      "    at emit (internal/child_process.js:906:12)",
      "    at processTicksAndRejections (internal/process/task_queues.js:81:21)"
     ]
    }
   ],
   "source": [
    "const a= 1;\n",
    "a = 2;"
   ]
  },
  {
   "cell_type": "markdown",
   "metadata": {},
   "source": [
    "## Object vs Class (ES6)\n",
    "\n",
    "자바스크립트에서 객체를 생성하는 방법은 두가지가 있다. 하나는 오브젝트를 직접 생성하는 것 (오브젝트 객체 이용), 그리고 다른 하나는 클래스를 사용하는 것이다. `Object`는 `Dictionary`와 같은 개념이다. 다만 `key` 값에 변수가 아닌 값이 들어와도 상관이 없다.\n",
    "\n",
    "`Class`는 **ES6**에서 도입된 개념으로서, 일반적인 `class`의 개념과 같다. 그러나 `super`, `get`, `set` 에 대해서는 알아둘 필요가 있다.\n",
    "\n",
    "자바스크립트에서는 함수와 마찬가지로 `class` 역시 unnamed 일 수 있다.\n",
    "\n",
    "* super() 는 하위 클래스가 상위 클래스의 `constructor`를 호출할 때 사용한다.\n",
    "* super. 는 하위 클래스에서 상위 클래스를 참조할 때 사용한다.\n",
    "\n",
    "### getter & setter (접근자 프로퍼티)\n",
    "\n",
    "객체 안의 메서드는 `get` 또는 `set`으로 나타낼 수 있다.\n",
    "* `getter` 메서드는 객체의 값을 일반 프로퍼티로 접근하는 것처럼 접근할 수 있게 해준다.\n",
    "* `setter` 메서드는 객체의 값을 일반 프로퍼티에 할당하는 것처럼 할 수 있다.\n",
    "\n",
    "`getter`와 `setter`를 사용하면 **\"가상의\"** 프로퍼티가 생성된다고 볼 수 있다. (예제 참조)"
   ]
  },
  {
   "cell_type": "code",
   "execution_count": 6,
   "metadata": {},
   "outputs": [],
   "source": [
    "// object와 class 선언\n",
    "\n",
    "var person = {\n",
    "    name : ['Bob', 'Smith'],\n",
    "    age : 32,\n",
    "    gender : 'male'\n",
    "}\n",
    "\n",
    "class _Person{\n",
    "    constructor(name, age, gender){\n",
    "        this.name = name;\n",
    "        this.age = age;\n",
    "        this.gender = gender;\n",
    "    }\n",
    "    \n",
    "    get birthdate(){\n",
    "        return (2020-this.age);\n",
    "    }\n",
    "    \n",
    "    set birthdate(value){\n",
    "        this.age = 2020-value;\n",
    "    }\n",
    "}\n",
    "\n",
    "class _Worker extends _Person{\n",
    "    constructor(name, age, gender, occupation, workhours){\n",
    "        super(name, age, gender);\n",
    "        this.occupation = occupation;\n",
    "        this.workhours = workhours;\n",
    "    }\n",
    "}\n",
    "\n",
    "const _new_person = class {\n",
    "    constructor(){\n",
    "        this.a = 1;\n",
    "    }\n",
    "    \n",
    "    //...\n",
    "}"
   ]
  },
  {
   "cell_type": "code",
   "execution_count": 7,
   "metadata": {},
   "outputs": [
    {
     "name": "stdout",
     "output_type": "stream",
     "text": [
      "1988\n",
      "1996\n"
     ]
    }
   ],
   "source": [
    "// getter and setter\n",
    "\n",
    "let someone = new _Person([`Jane`, `Doe`], 32, `Female`);\n",
    "console.log(someone.birthdate);\n",
    "someone.birthdate = 1996;\n",
    "console.log(someone.birthdate);\n"
   ]
  },
  {
   "cell_type": "markdown",
   "metadata": {},
   "source": [
    "### 또다른 예시\n",
    "\n",
    "다음 두 예시 중 `oldObject`는 예전 문법, `newObject`는 ES6 문법이다.\n",
    "\n",
    "* `sayNode` 와 같이 메서드를 정의할 때 더이상 콜론(:)을 붙이지 않아도 된다.\n",
    "* `sayJS` 와 같이 속성명과 변수명이 동일하다면 반복해서 적지 않아도 된다.\n",
    "* 객체의 속성명을 동적으로 생성할 수 있다. 예전에는 `es+6` 라는 속성명을 만들기 위해서는 객체의 바깥에서 정의해주어야 했으나, ES6 에서는 이를 객체 내에서 생성하는 것이 가능해졌다.\n"
   ]
  },
  {
   "cell_type": "code",
   "execution_count": 8,
   "metadata": {},
   "outputs": [
    {
     "name": "stdout",
     "output_type": "stream",
     "text": [
      "Node\n",
      "JS\n",
      "Fantastic\n"
     ]
    }
   ],
   "source": [
    "var sayNode = function(){\n",
    "    console.log('Node');\n",
    "}\n",
    "var es = 'ES';\n",
    "var oldObject = {\n",
    "    sayJS : function(){\n",
    "        console.log('JS');\n",
    "    },\n",
    "    sayNode : sayNode,\n",
    "};\n",
    "oldObject[es + 6] = 'Fantastic';\n",
    "\n",
    "oldObject.sayNode();\n",
    "oldObject.sayJS();\n",
    "console.log(oldObject.ES6);"
   ]
  },
  {
   "cell_type": "code",
   "execution_count": 9,
   "metadata": {},
   "outputs": [
    {
     "name": "stdout",
     "output_type": "stream",
     "text": [
      "Node\n",
      "JS\n",
      "Fantastic\n"
     ]
    }
   ],
   "source": [
    "const newObject = {\n",
    "    sayJS(){\n",
    "        console.log('JS');\n",
    "    },\n",
    "    sayNode,\n",
    "    [es+6] : 'Fantastic',\n",
    "};\n",
    "newObject.sayNode();\n",
    "newObject.sayJS();\n",
    "console.log(newObject.ES6);"
   ]
  },
  {
   "cell_type": "markdown",
   "metadata": {},
   "source": [
    "## Arrows (화살표 함수)\n",
    "\n",
    "`function(){}` 대신 사용되어 간단한 함수를 정의할 수 있다.\n",
    "\"좌변에 있는 변수를 우변에 있는 변수로 바꾸겠다\" 정도로 이해하면 쉽다."
   ]
  },
  {
   "cell_type": "code",
   "execution_count": 10,
   "metadata": {},
   "outputs": [
    {
     "name": "stdout",
     "output_type": "stream",
     "text": [
      "[ 3, 5, 7, 9 ]\n",
      "[\n",
      "  { even: 2, odd: 3 },\n",
      "  { even: 4, odd: 5 },\n",
      "  { even: 6, odd: 7 },\n",
      "  { even: 8, odd: 9 }\n",
      "]\n"
     ]
    }
   ],
   "source": [
    "var evens = [2,4,6,8,];\n",
    "var nums = evens.map(v=>v+1);\n",
    "var pairs = evens.map(v=> ({even : v, odd : v+1}));\n",
    "\n",
    "console.log(nums);\n",
    "console.log(pairs);"
   ]
  },
  {
   "cell_type": "markdown",
   "metadata": {},
   "source": [
    "## Enhanced Object Literals : 더 간단해진 객체 속성 정의\n",
    "\n",
    "ES6 에서는 보다 쉽게 객체 속성을 정의할 수 있게 되었다. 메서드, super클래스 호출을 지원하도록 향상되었다.\n",
    "\n",
    "* 프로토타입 설정\n",
    "* foo:foo (속성의 키와 값이 같은 경우) 를 위한 단축 표기\n",
    "* 메서드 정의\n",
    "* super 클래스 호출\n",
    "* 식으로 속성명을 지정"
   ]
  },
  {
   "cell_type": "code",
   "execution_count": 11,
   "metadata": {},
   "outputs": [
    {
     "ename": "ReferenceError",
     "evalue": "handler is not defined",
     "output_type": "error",
     "traceback": [
      "evalmachine.<anonymous>:5",
      "    handler,",
      "    ^",
      "",
      "ReferenceError: handler is not defined",
      "    at evalmachine.<anonymous>:5:5",
      "    at Script.runInThisContext (vm.js:131:18)",
      "    at Object.runInThisContext (vm.js:295:38)",
      "    at run ([eval]:1054:15)",
      "    at onRunRequest ([eval]:888:18)",
      "    at onMessage ([eval]:848:13)",
      "    at process.emit (events.js:314:20)",
      "    at emit (internal/child_process.js:906:12)",
      "    at processTicksAndRejections (internal/process/task_queues.js:81:21)"
     ]
    }
   ],
   "source": [
    "//\n",
    "\n",
    "const obj = {\n",
    "    // __proto__\n",
    "    handler,\n",
    "    [`prop_`+(()=>42)()]:42\n",
    "}\n",
    "\n",
    "let obj_1 = new obj();\n",
    "console.log(obj_1);"
   ]
  },
  {
   "cell_type": "markdown",
   "metadata": {},
   "source": [
    "## 비구조화 할당\n",
    "\n",
    "객체와 배열로부터 속성이나 요소를 쉽게 꺼낼 수 있는 문법이다."
   ]
  },
  {
   "cell_type": "code",
   "execution_count": 12,
   "metadata": {},
   "outputs": [
    {
     "name": "stdout",
     "output_type": "stream",
     "text": [
      "[Function: getCandy] 5\n"
     ]
    }
   ],
   "source": [
    "var candyMachine = {\n",
    "    status : {\n",
    "        name : 'node',\n",
    "        count:5\n",
    "    },\n",
    "    getCandy : function(){\n",
    "        this.status.count--;\n",
    "        return this.status.count;\n",
    "    },\n",
    "};\n",
    "\n",
    "var getCandy = candyMachine.getCandy;\n",
    "var count = candyMachine.status.count;\n",
    "\n",
    "console.log(getCandy, count);"
   ]
  },
  {
   "cell_type": "markdown",
   "metadata": {},
   "source": [
    "위의 예시에서는 `getCandy` 와 `count` 를 구하기 위해 두번의 변수 선언과 할당이 이루어졌다.\n",
    "\n",
    "그러나 **비구조화 할당**을 사용하면 한 줄로 간단하게 두 변수를 할당해줄 수 있다."
   ]
  },
  {
   "cell_type": "code",
   "execution_count": 13,
   "metadata": {},
   "outputs": [
    {
     "name": "stdout",
     "output_type": "stream",
     "text": [
      "[Function: newgetCandy] 5\n"
     ]
    }
   ],
   "source": [
    "const newCandyMachine = {\n",
    "    newstatus:{\n",
    "        newname:'node',\n",
    "        newcount:5,\n",
    "    },\n",
    "    newgetCandy(){\n",
    "        this.status.count--;\n",
    "        return this.status.count;\n",
    "    }\n",
    "};\n",
    "\n",
    "const {newgetCandy, newstatus:{newcount}} = newCandyMachine;\n",
    "console.log(newgetCandy, newcount);"
   ]
  },
  {
   "cell_type": "markdown",
   "metadata": {},
   "source": [
    "## 프로미스 (Promise)\n",
    "\n",
    "자바스크립트와 노드에서는 주로 *비동기 프로그래밍*을 한다. 특히 이벤트 주도 방식 때문에 *콜백 함수*를 자주 사용하는데, ES6 부터는 이것이 **프로미스 함수** 중심으로 재구성 된다.\n",
    "\n",
    "1. 프로미스 객체를 생성한다.\n",
    "2. `resolve`와 `reject`를 매개변수로 갖는 콜백 함수를 넣어준다.\n",
    "3. 프로미스 내부에서 `resolve`가 실행되면 `then`이 실행되고, `reject`가 실행되면 `catch`가 실행된다."
   ]
  },
  {
   "cell_type": "code",
   "execution_count": 14,
   "metadata": {},
   "outputs": [
    {
     "ename": "SyntaxError",
     "evalue": "missing ) after argument list",
     "output_type": "error",
     "traceback": [
      "evalmachine.<anonymous>:4",
      "} else {",
      "^",
      "",
      "SyntaxError: missing ) after argument list",
      "    at new Script (vm.js:99:7)",
      "    at createScript (vm.js:247:10)",
      "    at Object.runInThisContext (vm.js:295:10)",
      "    at run ([eval]:1054:15)",
      "    at onRunRequest ([eval]:888:18)",
      "    at onMessage ([eval]:848:13)",
      "    at process.emit (events.js:314:20)",
      "    at emit (internal/child_process.js:906:12)",
      "    at processTicksAndRejections (internal/process/task_queues.js:81:21)"
     ]
    }
   ],
   "source": [
    "const condition = true;\n",
    "const promis = new Promise((resolve, reject) =>{\n",
    "    resolve('성공');\n",
    "} else {\n",
    "    reject('실패');\n",
    "});\n",
    "\n",
    "promis\n",
    "    .then((message)=>{console.log(message)});\n",
    "    .catch((error)=>{console.log(error)});"
   ]
  },
  {
   "cell_type": "markdown",
   "metadata": {},
   "source": [
    "다음은 **프로미스** 함수로 콜백함수의 기능을 대신한 예시이다.<br>\n",
    "`resolve`(성공)했을 때 `.then`을 수행하고, `reject`(실패)했을 때 `.catch`를 수행한다."
   ]
  },
  {
   "cell_type": "code",
   "execution_count": 15,
   "metadata": {},
   "outputs": [
    {
     "ename": "SyntaxError",
     "evalue": "Unexpected token ')'",
     "output_type": "error",
     "traceback": [
      "evalmachine.<anonymous>:10",
      "        .then((user)=>){",
      "                      ^",
      "",
      "SyntaxError: Unexpected token ')'",
      "    at new Script (vm.js:99:7)",
      "    at createScript (vm.js:247:10)",
      "    at Object.runInThisContext (vm.js:295:10)",
      "    at run ([eval]:1054:15)",
      "    at onRunRequest ([eval]:888:18)",
      "    at onMessage ([eval]:848:13)",
      "    at process.emit (events.js:314:20)",
      "    at emit (internal/child_process.js:906:12)",
      "    at processTicksAndRejections (internal/process/task_queues.js:81:21)"
     ]
    }
   ],
   "source": [
    "function findAndSaveUser(Users){\n",
    "    User.findOne({})\n",
    "        .then((user)=>{\n",
    "        user.name = 'zero';\n",
    "        return user.save();\n",
    "    })\n",
    "        .then((user)=>{\n",
    "        return Users.findOne({gender: 'm'});\n",
    "    })\n",
    "        .then((user)=>){\n",
    "              \n",
    "    }\n",
    "        .catch(err => {\n",
    "            console.log(err);\n",
    "        })\n",
    "}"
   ]
  },
  {
   "cell_type": "markdown",
   "metadata": {},
   "source": [
    "여러개의 프로미스를 동시에 수행시킬수도 있다.(`Promise.all`)"
   ]
  },
  {
   "cell_type": "code",
   "execution_count": 16,
   "metadata": {},
   "outputs": [
    {
     "name": "stdout",
     "output_type": "stream",
     "text": [
      "[ '성공1', '성공2' ] object\n"
     ]
    }
   ],
   "source": [
    "const promise1 = Promise.resolve('성공1');\n",
    "const promise2 = Promise.resolve('성공2');\n",
    "Promise.all([promise1, promise2])\n",
    "    .then((result)=>{console.log(result, typeof(result))});"
   ]
  },
  {
   "cell_type": "markdown",
   "metadata": {},
   "source": [
    "## async/await (ES2017, nodejs)\n",
    "\n",
    "노드에서 사용되는 문법이며, 프로미스를 사용한 코드를 한 번 더 줄여준다. <br>\n",
    "* `async function`은 일반함수를 대신한다.\n",
    "* 프로미스 앞에 `await`을 붙여 해당 프로미스가 `resolve` 될 때까지 기다린 후 다음 로직으로 넘어간다.\n",
    "    예를 들어 `await Users.findOne({})`이 `resolve` 될 때까지 기다린 뒤, `user` 변수를 초기화 한다.\n",
    "* `await`는 \"성공할때까지 기다린다\" 라는 의미라고 보면 편하다."
   ]
  },
  {
   "cell_type": "code",
   "execution_count": null,
   "metadata": {},
   "outputs": [],
   "source": [
    "// 6의 코드\n",
    "/*\n",
    "function findAndSaveUser(Users){\n",
    "    User.findOne({})\n",
    "        .then((user)=>{\n",
    "        user.name = 'zero';\n",
    "        return user.save();\n",
    "    })\n",
    "        .then((user)=>{\n",
    "        return Users.findOne({gender: 'm'});\n",
    "    })\n",
    "        .then((user)=>){\n",
    "              \n",
    "    }\n",
    "        .catch(err => {\n",
    "            console.log(err);\n",
    "        })\n",
    "}\n",
    "*/\n",
    "\n",
    "async function findAndSaveUser2(Users){\n",
    "    let user = await User.findOne({});\n",
    "    user.name = 'zero';\n",
    "    user = await user.save();\n",
    "    user = await User.findOne({gender : 'm'});\n",
    "}"
   ]
  }
 ],
 "metadata": {
  "kernelspec": {
   "display_name": "Javascript (Node.js)",
   "language": "javascript",
   "name": "javascript"
  },
  "language_info": {
   "file_extension": ".js",
   "mimetype": "application/javascript",
   "name": "javascript",
   "version": "14.5.0"
  },
  "toc": {
   "base_numbering": 1,
   "nav_menu": {
    "height": "429px",
    "width": "347px"
   },
   "number_sections": true,
   "sideBar": true,
   "skip_h1_title": true,
   "title_cell": "Table of Contents",
   "title_sidebar": "Contents",
   "toc_cell": false,
   "toc_position": {},
   "toc_section_display": true,
   "toc_window_display": true
  }
 },
 "nbformat": 4,
 "nbformat_minor": 4
}
