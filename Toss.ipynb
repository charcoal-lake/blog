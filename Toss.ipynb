{
 "cells": [
  {
   "cell_type": "markdown",
   "metadata": {
    "toc": true
   },
   "source": [
    "<h1>Table of Contents<span class=\"tocSkip\"></span></h1>\n",
    "<div class=\"toc\"><ul class=\"toc-item\"><li><span><a href=\"#문제-1.-1은-2가-좋지만-2는-생각이-없다.\" data-toc-modified-id=\"문제-1.-1은-2가-좋지만-2는-생각이-없다.-1\"><span class=\"toc-item-num\">1&nbsp;&nbsp;</span>문제 1. 1은 2가 좋지만 2는 생각이 없다.</a></span></li><li><span><a href=\"#문제-2.-가짜-로또-판별하기.\" data-toc-modified-id=\"문제-2.-가짜-로또-판별하기.-2\"><span class=\"toc-item-num\">2&nbsp;&nbsp;</span>문제 2. 가짜 로또 판별하기.</a></span></li><li><span><a href=\"#문제-3.-초고속-응답.*\" data-toc-modified-id=\"문제-3.-초고속-응답.*-3\"><span class=\"toc-item-num\">3&nbsp;&nbsp;</span>문제 3. 초고속 응답.*</a></span></li><li><span><a href=\"#문제-4.-단기-기억\" data-toc-modified-id=\"문제-4.-단기-기억-4\"><span class=\"toc-item-num\">4&nbsp;&nbsp;</span>문제 4. 단기 기억</a></span></li><li><span><a href=\"#문제-5.-김토스-이토스\" data-toc-modified-id=\"문제-5.-김토스-이토스-5\"><span class=\"toc-item-num\">5&nbsp;&nbsp;</span>문제 5. 김토스 이토스</a></span></li><li><span><a href=\"#문제-6.-토스-바-테이블-둘레-구하기.\" data-toc-modified-id=\"문제-6.-토스-바-테이블-둘레-구하기.-6\"><span class=\"toc-item-num\">6&nbsp;&nbsp;</span>문제 6. 토스 바 테이블 둘레 구하기.</a></span></li><li><span><a href=\"#문제-7.-유효한-데이터만-남기기\" data-toc-modified-id=\"문제-7.-유효한-데이터만-남기기-7\"><span class=\"toc-item-num\">7&nbsp;&nbsp;</span>문제 7. 유효한 데이터만 남기기</a></span></li><li><span><a href=\"#서술형-문제-1.\" data-toc-modified-id=\"서술형-문제-1.-8\"><span class=\"toc-item-num\">8&nbsp;&nbsp;</span>서술형 문제 1.</a></span></li><li><span><a href=\"#서술형-문제-2.\" data-toc-modified-id=\"서술형-문제-2.-9\"><span class=\"toc-item-num\">9&nbsp;&nbsp;</span>서술형 문제 2.</a></span></li><li><span><a href=\"#서술형-문제-3.\" data-toc-modified-id=\"서술형-문제-3.-10\"><span class=\"toc-item-num\">10&nbsp;&nbsp;</span>서술형 문제 3.</a></span></li><li><span><a href=\"#서술형-문제-4.\" data-toc-modified-id=\"서술형-문제-4.-11\"><span class=\"toc-item-num\">11&nbsp;&nbsp;</span>서술형 문제 4.</a></span></li></ul></div>"
   ]
  },
  {
   "cell_type": "markdown",
   "metadata": {
    "colab_type": "text",
    "id": "mspTtf4ccYgI"
   },
   "source": [
    "# 토스 코딩 테스트\n",
    "### 문제 1. 1은 2가 좋지만 2는 생각이 없다.\n",
    "1. 1과 2로 구성된 문자열이 주어집니다.\n",
    "1. 1 뒤에는 반드시 2가 나와야 합니다.\n",
    "1. 2 뒤에는 1이나 2, 둘 중 어느 것이 나와도 상관 없습니다.\n",
    "\n",
    "주어진 문자열이 조건을 만족하는지 `True`/`False`로 출력하세요.\n",
    "\n",
    "```py\n",
    "# 입력 예시 1\n",
    "11\n",
    "```\n",
    "\n",
    "```py\n",
    "# 출력 예시 1\n",
    "False\n",
    "```\n",
    "\n",
    "```py\n",
    "# 입력 예시 2\n",
    "22\n",
    "```\n",
    "\n",
    "```py\n",
    "# 출력 예시 2\n",
    "True\n",
    "```"
   ]
  },
  {
   "cell_type": "code",
   "execution_count": 1,
   "metadata": {
    "cellView": "form",
    "colab": {},
    "colab_type": "code",
    "id": "viKNNW2zcYzx"
   },
   "outputs": [],
   "source": [
    "#@title\n",
    "test_seq_1 = ['11', '12', '212', '21221', '22', '1221212111212212', '212222121222121221212212']\n",
    "#answer_seq_1 = [False, True, True, False, True, False, True]"
   ]
  },
  {
   "cell_type": "code",
   "execution_count": 7,
   "metadata": {
    "cellView": "form",
    "colab": {},
    "colab_type": "code",
    "id": "rV2W--4D4je8"
   },
   "outputs": [
    {
     "name": "stdout",
     "output_type": "stream",
     "text": [
      "False\n",
      "True\n",
      "True\n",
      "True\n",
      "True\n",
      "False\n",
      "True\n"
     ]
    }
   ],
   "source": [
    "#@title\n",
    "\n",
    "def test(case):\n",
    "    state = '0'\n",
    "    for c in case:\n",
    "        if state == '0' :\n",
    "            state = c\n",
    "        elif state == '1' and c == '1':\n",
    "            return False\n",
    "        else:\n",
    "            state = c\n",
    "    return True\n",
    "\n",
    "\n",
    "for case in test_seq_1:\n",
    "    print(test(case))"
   ]
  },
  {
   "cell_type": "markdown",
   "metadata": {
    "colab_type": "text",
    "id": "gSDMAMaQzr3M"
   },
   "source": [
    "### 문제 2. 가짜 로또 판별하기.\n",
    "1. 로또 번호는 중복이 아닌 6개의 숫자입니다.\n",
    "1. 로또 번호는 1에서 45 사이에 있습니다.\n",
    "1. 로또 번호는 오름차순으로 정렬되어 있습니다.\n",
    "\n",
    "주어진 로또가 진짜인지 판별하여 `True`/`False`로 출력하세요.\n",
    "\n",
    "```py\n",
    "# 입력 예시\n",
    "1 2 3 4 5 6\n",
    "```\n",
    "\n",
    "```py\n",
    "# 출력 예시\n",
    "True\n",
    "```"
   ]
  },
  {
   "cell_type": "code",
   "execution_count": 10,
   "metadata": {
    "cellView": "form",
    "colab": {},
    "colab_type": "code",
    "id": "lawMsy4ndaUn"
   },
   "outputs": [],
   "source": [
    "#@title\n",
    "test_seq_2 = ['1 2 3 4 5 6', '4 16 34 40 42 45', '4 16 34 40 42', '1 4 16 34 40 42 45', '4 16 34 40 42 49', '4 4 34 40 42 45', '0 16 34 40 42 45']\n",
    "answer_seq_2 = [True, True, False, False, False, False, False]"
   ]
  },
  {
   "cell_type": "code",
   "execution_count": 39,
   "metadata": {
    "cellView": "form",
    "colab": {},
    "colab_type": "code",
    "id": "Mw96WV4kdm1i"
   },
   "outputs": [],
   "source": [
    "#@title\n",
    "def q2(str1):\n",
    "    case = [int(c) for c in str1.split(' ')]\n",
    "    if len(case) != 6:\n",
    "        return False\n",
    "    \n",
    "    check = [False for i in range(0, 46)]\n",
    "    temp=-1000\n",
    "    \n",
    "    for i in case:\n",
    "        if i<1 or i>45 :\n",
    "            return False\n",
    "        if check[i] is True:\n",
    "            return False\n",
    "        else:\n",
    "            check[i] = True\n",
    "        if temp > i:\n",
    "            return False\n",
    "        else:\n",
    "            temp = i\n",
    "    return True\n",
    "        \n"
   ]
  },
  {
   "cell_type": "code",
   "execution_count": 40,
   "metadata": {
    "cellView": "form",
    "colab": {},
    "colab_type": "code",
    "id": "cnm794k_4mOP"
   },
   "outputs": [
    {
     "name": "stdout",
     "output_type": "stream",
     "text": [
      "판별 \t 통과\n",
      "True \t True\n",
      "True \t True\n",
      "False \t True\n",
      "False \t True\n",
      "False \t True\n",
      "False \t True\n",
      "False \t True\n"
     ]
    }
   ],
   "source": [
    "#@title\n",
    "print('판별', '\\t', '통과')\n",
    "for seq, ans in zip(test_seq_2, answer_seq_2):\n",
    "  print(q2(seq), '\\t', q2(seq) == ans)"
   ]
  },
  {
   "cell_type": "markdown",
   "metadata": {
    "colab_type": "text",
    "id": "WFrxmEqy4pcp"
   },
   "source": [
    "### 문제 3. 초고속 응답.*\n",
    "1. `compute(int n)` 함수가 주어집니다.\n",
    "1. 해당 함수는 정수를 입력하면 정수를 출력하고, 해당 과정에서 1초의 시간이 걸립니다.\n",
    "1. 해당 함수는 동일한 입력값에 대하여 동일한 출력값을 가집니다.\n",
    "\n",
    "입력 값에 중복되는 값이 2개 이상 존재할 때, 해당 입력을 n초 미만으로 실행되도록 만드세요.\n",
    "\n",
    "```py\n",
    "# 입력 예시\n",
    "1 1 3 4 3 6 3\n",
    "```\n",
    "\n",
    "```py\n",
    "# 출력 예시\n",
    "9708 9708 41600 7915 41600 58212 41600\n",
    "```"
   ]
  },
  {
   "cell_type": "code",
   "execution_count": 41,
   "metadata": {
    "cellView": "form",
    "colab": {},
    "colab_type": "code",
    "id": "RTy9npI66G9i"
   },
   "outputs": [],
   "source": [
    "#@title\n",
    "test_seq_3 = ['1 1 3 4 3 6 3', '1 2 3 4 5 6 7 8 9 10 1 2', '1 1 1 1 1 1']\n",
    "answer_seq_3 = [4, 10, 1]"
   ]
  },
  {
   "cell_type": "code",
   "execution_count": 42,
   "metadata": {
    "cellView": "form",
    "colab": {},
    "colab_type": "code",
    "id": "60IT9rpNfAsH"
   },
   "outputs": [],
   "source": [
    "#@title\n",
    "def compute(n):\n",
    "  return n\n",
    "\n",
    "from collections import defaultdict\n",
    "\n",
    "def q3(string):\n",
    "  answer = []; cnt = 0\n",
    "  cache = defaultdict(str)\n",
    "  seq = [int(c) for c in string.split(' ')]\n",
    "  for i in seq:\n",
    "    if cache[i] == '':\n",
    "      cache[i] = compute(i)\n",
    "      cnt += 1\n",
    "\n",
    "    answer.append(str(cache[i]))\n",
    "    \n",
    "  return cnt"
   ]
  },
  {
   "cell_type": "code",
   "execution_count": 43,
   "metadata": {
    "cellView": "form",
    "colab": {},
    "colab_type": "code",
    "id": "bZxJ9Zb56yIg"
   },
   "outputs": [
    {
     "name": "stdout",
     "output_type": "stream",
     "text": [
      "판별 \t 통과\n",
      "4 \t True\n",
      "10 \t True\n",
      "1 \t True\n"
     ]
    }
   ],
   "source": [
    "#@title\n",
    "print('판별', '\\t', '통과')\n",
    "for seq, ans in zip(test_seq_3, answer_seq_3):\n",
    "  print(q3(seq), '\\t', q3(seq) == ans)"
   ]
  },
  {
   "cell_type": "markdown",
   "metadata": {
    "colab_type": "text",
    "id": "paiD-vuqGcoq"
   },
   "source": [
    "### 문제 4. 단기 기억\n",
    "1. 은행 송금 내역을 최근 5개만 기억합니다.\n",
    "1. 입력 값은 송금한 순서를 의미하며, 마지막 데이터가 가장 최근 이용한 은행을 의미합니다.\n",
    "1. 입력 값이 주어졌을 때 매번 최근 이용한 순서대로 5개의 은행을 출력하세요.\n",
    "\n",
    "```py\n",
    "# 입력 예시\n",
    "우리 우리 우리 하나 우리 국민 삼성 농협 농협 농협 국민 저축\n",
    "```\n",
    "\n",
    "```py\n",
    "# 출력 예시\n",
    "우리\n",
    "우리\n",
    "우리\n",
    "하나 우리\n",
    "우리 하나\n",
    "국민 우리 하나\n",
    "삼성 국민 우리 하나\n",
    "농협 삼성 국민 우리 하나\n",
    "농협 삼성 국민 우리 하나\n",
    "농협 삼성 국민 우리 하나\n",
    "국민 농협 삼성 우리 하나\n",
    "저축 국민 농협 삼성 우리\n",
    "```"
   ]
  },
  {
   "cell_type": "code",
   "execution_count": 47,
   "metadata": {
    "cellView": "form",
    "colab": {},
    "colab_type": "code",
    "id": "LxyWXTmzHwhk"
   },
   "outputs": [],
   "source": [
    "#@title\n",
    "test_seq_4 = '우리 우리 우리 하나 우리 국민 삼성 농협 농협 농협 국민 저축'\n",
    "answer_seq_4 = ['우리', '우리', '우리', '하나 우리', '우리 하나', '국민 우리 하나', '삼성 국민 우리 하나', '농협 삼성 국민 우리 하나', '농협 삼성 국민 우리 하나', '농협 삼성 국민 우리 하나', '국민 농협 삼성 우리 하나', '저축 국민 농협 삼성 우리']"
   ]
  },
  {
   "cell_type": "code",
   "execution_count": 56,
   "metadata": {
    "cellView": "form",
    "colab": {},
    "colab_type": "code",
    "id": "QnkCNH__g5I_"
   },
   "outputs": [],
   "source": [
    "#@title\n",
    "def q4(string):\n",
    "    answer = []\n",
    "    cache = []\n",
    "    seq = [st for st in string.split(' ')]\n",
    "    \n",
    "    for st in seq:\n",
    "        if st in cache:\n",
    "            cache.remove(st)\n",
    "        cache.insert(0, st)\n",
    "        if len(cache) > 5:\n",
    "            cache.pop()\n",
    "        answer.append(' '.join(cache))\n",
    "    \n",
    "    return answer"
   ]
  },
  {
   "cell_type": "code",
   "execution_count": 57,
   "metadata": {
    "cellView": "form",
    "colab": {},
    "colab_type": "code",
    "id": "1h1yDjv4IAdm"
   },
   "outputs": [
    {
     "name": "stdout",
     "output_type": "stream",
     "text": [
      "판별\n",
      "\n",
      "통과\n",
      "True\n"
     ]
    }
   ],
   "source": [
    "#@title\n",
    "print('판별')\n",
    "answer = q4(test_seq_4)\n",
    "print('\\n통과')\n",
    "print(answer == answer_seq_4)"
   ]
  },
  {
   "cell_type": "markdown",
   "metadata": {
    "colab_type": "text",
    "id": "iEGst3r27hQ5"
   },
   "source": [
    "### 문제 5. 김토스 이토스\n",
    "1. 김토스는 이토스에게 매달 줘야할 돈이 있습니다.\n",
    "1. 이토스도 김토스에게 매달 줘야할 돈이 있습니다.\n",
    "1. 서로 주고 받기 귀찮아서 김토스가 매달 이토스에게 받아야 할 돈을 제외한 뒤 돈을 줍니다.\n",
    "\n",
    "매달 김토스가 줘야할 돈을 출력하세요.\n",
    "\n",
    "```py\n",
    "# 입력 예시\n",
    "100 300 10 0 40 0 0 70 65\n",
    "40 300 20 10 10 20 100 10 0\n",
    "```\n",
    "\n",
    "```py\n",
    "# 출력 예시\n",
    "60 0 0 0 10 0 0 0 5\n",
    "```"
   ]
  },
  {
   "cell_type": "code",
   "execution_count": 61,
   "metadata": {
    "cellView": "form",
    "colab": {},
    "colab_type": "code",
    "id": "Dv6EsvYlj-dg"
   },
   "outputs": [],
   "source": [
    "#@title\n",
    "test_seq_5 = [['100 300 10 0 40 0 0 70 65', '40 300 20 10 10 20 100 10 0']]\n",
    "answer_seq_5 = ['60 0 0 0 10 0 0 0 5']"
   ]
  },
  {
   "cell_type": "code",
   "execution_count": 89,
   "metadata": {
    "cellView": "form",
    "colab": {},
    "colab_type": "code",
    "id": "7gWNe8AOk4a9"
   },
   "outputs": [],
   "source": [
    "#@title\n",
    "def q5(kim, lee):\n",
    "    kim = [int(c) for c in kim.split(' ')]\n",
    "    lee = [int(c) for c in lee.split(' ')]\n",
    "    dept=0\n",
    "    \n",
    "    if len(kim) != len(lee):\n",
    "        return False\n",
    "    dif = [0 for x in range(len(kim))]\n",
    "        \n",
    "    for i in range(len(kim)):\n",
    "        dif[i] = kim[i] - lee[i]\n",
    "        if dif[i] <= 0:\n",
    "            dept += dif[i]\n",
    "            dif[i]=0\n",
    "        elif -dept > dif[i] :\n",
    "            dept = dif[i]+dept\n",
    "            dif[i]=0\n",
    "        elif -dept <= dif[i]:\n",
    "            dif[i] = dif[i]+dept\n",
    "            dept=0\n",
    "\n",
    "    return ' '.join(map(str, dif))"
   ]
  },
  {
   "cell_type": "code",
   "execution_count": 90,
   "metadata": {
    "cellView": "form",
    "colab": {},
    "colab_type": "code",
    "id": "gXk7kqyy9K5H"
   },
   "outputs": [
    {
     "name": "stdout",
     "output_type": "stream",
     "text": [
      "결과\n",
      "60 0 0 0 10 0 0 0 5\n",
      "\n",
      "통과\n",
      "True\n"
     ]
    }
   ],
   "source": [
    "#@title\n",
    "print('결과')\n",
    "for (kim, lee), ans in zip(test_seq_5, answer_seq_5):\n",
    "  answer = q5(kim, lee)\n",
    "  print(answer)\n",
    "  print('\\n통과')\n",
    "  print(answer == ans)"
   ]
  },
  {
   "cell_type": "markdown",
   "metadata": {
    "colab_type": "text",
    "id": "Ibeub_e4JvBR"
   },
   "source": [
    "### 문제 6. 토스 바 테이블 둘레 구하기.\n",
    "1. 토스 바는 0과 1로 구성되어 있습니다.\n",
    "1. 0은 빈 공간, 1은 테이블을 나타냅니다.\n",
    "1. 1이 상하좌우로 연속되어 표시되면 해당 테이블은 연결된 테이블입니다.\n",
    "1. 입력 값에서 공간 구분은 공백 한 칸, 줄 바꿈은 ;으로 표시합니다.\n",
    "1. 가로 길이가 n, 세로 길이가 m이면 동일한 행, 동일한 열을 가집니다. (잘 기억 안 남.. 대충 n * m 행렬로 표현 가능하다는 소리)\n",
    "1. 하나의 연속된 테이블의 길이를 \n",
    "1. 테이블의 바깥 둘레 뿐만 아니라 안 쪽 둘레도 고려하여야 합니다. 예를 들어 테이블이 다음과 같이 존재할 경우, 테이블의 둘레는 바깥쪽 12 + 안쪽 4 = 16입니다.\n",
    "```\n",
    "0 0 0 0 0\n",
    "0 1 1 1 0\n",
    "0 1 0 1 0\n",
    "0 1 1 1 0\n",
    "0 0 0 0 0\n",
    "```\n",
    "1. 입력값 최소 크기는 3x3이며, 공간의 상하좌우는 0으로 감싸여 있습니다.\n",
    "\n",
    "```py\n",
    "# 입력 예시 1\n",
    "0 0 0 0 0;0 1 1 1 0;0 1 0 1 0;0 1 1 1 0;0 0 0 0 0\n",
    "```\n",
    "\n",
    "```py\n",
    "# 출력 예시 1\n",
    "16\n",
    "```\n",
    "\n",
    "```py\n",
    "# 입력 예시 2\n",
    "0 0 0 0;0 1 1 0;0 0 1 0;0 0 0 0\n",
    "```\n",
    "\n",
    "```py\n",
    "# 출력 예시 2\n",
    "8\n",
    "```"
   ]
  },
  {
   "cell_type": "code",
   "execution_count": 1,
   "metadata": {
    "cellView": "form",
    "colab": {},
    "colab_type": "code",
    "id": "wQXbWB0KLXVf"
   },
   "outputs": [],
   "source": [
    "#@title\n",
    "test_seq_6 = ['0 0 0 0 0;0 1 1 1 0;0 1 0 1 0;0 1 1 1 0;0 0 0 0 0', '0 0 0 0;0 1 1 0;0 0 1 0;0 0 0 0']\n",
    "answer_seq_6 = [16, 8]"
   ]
  },
  {
   "cell_type": "code",
   "execution_count": 8,
   "metadata": {
    "cellView": "form",
    "colab": {},
    "colab_type": "code",
    "id": "vuxw5faely-U"
   },
   "outputs": [],
   "source": [
    "#@title\n",
    "def q6(str1):\n",
    "    result = 0\n",
    "    row = [x for x in str1.split(';')]\n",
    "    mat =[]\n",
    "    for _row in row:\n",
    "        mat.append([int(x) for x in _row.split(' ')])\n",
    "\n",
    "    for i in range(len(mat)):\n",
    "        mat[i].insert(0,0)\n",
    "        mat[i].append(0)\n",
    "    mat.append([0 for i in range(len(mat[0]))])\n",
    "    mat.insert(0,[0 for i in range(len(mat[0]))])\n",
    "\n",
    "    for i in range(1, len(mat)-1):\n",
    "        for j in range(1, len(mat[0])-1):\n",
    "            if mat[i][j] == 1:\n",
    "                if mat[i-1][j] == 0:\n",
    "                    result+=1\n",
    "                if mat[i+1][j] == 0:\n",
    "                    result+=1\n",
    "                if mat[i][j-1] == 0:\n",
    "                    result+=1\n",
    "                if mat[i][j+1] == 0:\n",
    "                    result+=1\n",
    "\n",
    "    return result\n"
   ]
  },
  {
   "cell_type": "code",
   "execution_count": 9,
   "metadata": {
    "cellView": "form",
    "colab": {},
    "colab_type": "code",
    "id": "5BF3v0lWLnYm"
   },
   "outputs": [
    {
     "name": "stdout",
     "output_type": "stream",
     "text": [
      "판별 \t 통과\n",
      "16 \t True\n",
      "8 \t True\n"
     ]
    }
   ],
   "source": [
    "#@title\n",
    "print('판별 \\t 통과')\n",
    "for seq, ans in zip(test_seq_6, answer_seq_6):\n",
    "  answer = q6(seq)\n",
    "  print(answer, '\\t', answer == ans)"
   ]
  },
  {
   "cell_type": "markdown",
   "metadata": {
    "colab_type": "text",
    "id": "jq4nLDUYL4y5"
   },
   "source": [
    "### 문제 7. 유효한 데이터만 남기기\n",
    "1. 메모리 A와 B는 8의 크기를 갖는 메모리입니다.\n",
    "1. 메모리 주소는 0부터 7로 표시합니다.\n",
    "1. 입력 값의 맨 앞 자리는 starting pointer를 나타냅니다.\n",
    "1. 데이터의 크기는 항상 2로, `형식 값` 순으로 나타냅니다. (0이면 포인터고 1이면 데이터고?)\n",
    "1. 데이터 형식이 포인터라면 가리키고 있는 대상을 복사하도록 커서가 옮겨져야 합니다. (사실 잘 기억 안 남... 대충 입출력 보면 알 거라고 믿겠음..)\n",
    "1. 새로 생성된 메모리 B의 starting pointer는 항상 0입니다.\n",
    "\n",
    "```py\n",
    "# 입력 형식\n",
    "4; 1 30 0 6 0 2 1 3\n",
    "```\n",
    "```py\n",
    "# 출력 형식\n",
    "0; 0 2 0 4 1 3 0 0\n",
    "```\n",
    "\n",
    "1. 입력 데이터는 주소값 4부터 유효합니다.\n",
    "1. `0 2`를 메모리 B에 복사한 뒤 2번째 주소로 이동합니다.\n",
    "1. `0 6`을 메모리 B에 복사한 뒤 6번째 주소로 이동합니다.\n",
    "1. `1 3`을 메모리 B에 복사한 뒤 이후 메모리를 복사합니다.\n",
    "1. 복사할 대상이 더이상 없으면 메모리 B를 `0 0`으로 채웁니다.\n",
    "1. 가리키고 있는 대상(`1 3`)의 주소가 바뀌었으므로, 메모리 B의 `0 6`을 `0 4`로 변경합니다."
   ]
  },
  {
   "cell_type": "code",
   "execution_count": 11,
   "metadata": {
    "cellView": "form",
    "colab": {},
    "colab_type": "code",
    "id": "Z6D27M06qrLx"
   },
   "outputs": [],
   "source": [
    "#@title\n",
    "test_seq_7 = '4; 1 30 0 6 0 2 1 3'\n",
    "answer_seq_7 = '0; 0 2 0 4 1 3 0 0'"
   ]
  },
  {
   "cell_type": "code",
   "execution_count": 52,
   "metadata": {
    "cellView": "form",
    "colab": {},
    "colab_type": "code",
    "id": "qlc_SYDtNmrH"
   },
   "outputs": [
    {
     "data": {
      "text/plain": [
       "'0; 0 2 0 4 1 3 0 0'"
      ]
     },
     "execution_count": 52,
     "metadata": {},
     "output_type": "execute_result"
    }
   ],
   "source": [
    "#@title\n",
    "def q7(str1):\n",
    "    ptr = int(str1[0]);\n",
    "    A = [int(x) for x in str1[3:].split(' ')]\n",
    "    B = [-1 for x in range(8)]\n",
    "    i=0\n",
    "    \n",
    "    while i < 8:\n",
    "        B[i:i+2] = A[ptr:ptr+2]\n",
    "        if A[ptr] == 0 :\n",
    "            ptr = A[ptr+1]\n",
    "            i+=2\n",
    "        else :\n",
    "            B[i-1] = i\n",
    "            i+=2\n",
    "            break\n",
    "        \n",
    "    B[i:] = [0 for x in B[i:]]\n",
    "    B = map(str, B)\n",
    "    return '0; '+' '.join(B)\n",
    "\n",
    "q7(test_seq_7)"
   ]
  },
  {
   "cell_type": "code",
   "execution_count": 53,
   "metadata": {
    "cellView": "form",
    "colab": {},
    "colab_type": "code",
    "id": "S-dKM7TrN9bv"
   },
   "outputs": [
    {
     "name": "stdout",
     "output_type": "stream",
     "text": [
      "결과\n",
      "0; 0 2 0 4 1 3 0 0\n",
      "\n",
      "통과\n",
      "True\n"
     ]
    }
   ],
   "source": [
    "#@title\n",
    "print('결과')\n",
    "answer = q7(test_seq_7)\n",
    "print(answer)\n",
    "print('\\n통과')\n",
    "print(answer == answer_seq_7)"
   ]
  },
  {
   "cell_type": "markdown",
   "metadata": {
    "colab_type": "text",
    "id": "xwCtoEJxUAj1"
   },
   "source": [
    "### 서술형 문제 1.\n",
    "작성 언어를 하나 선택한 뒤, hello world를 출력하는 프로그램의 실행 과정을 서술하시오."
   ]
  },
  {
   "cell_type": "markdown",
   "metadata": {
    "colab_type": "text",
    "id": "0dRRh0YEUnwx"
   },
   "source": [
    "### 서술형 문제 2.\n",
    "https 보안 네트워크 접속 시 PC에서 일어나는 네트워크 과정을 서술하시오."
   ]
  },
  {
   "cell_type": "markdown",
   "metadata": {
    "colab_type": "text",
    "id": "HvTVaLrnUvC8"
   },
   "source": [
    "### 서술형 문제 3.\n",
    "유저가 클릭했을 때 리워드, 알림을 주는 시스템을 만든다고 가정합니다. 어떤 컴포넌트(DB 등)가 필요하고 해당 컴포넌트가 필요한 이유를 설명하시오.\n",
    "\n",
    "**조건**\n",
    "1. 시스템은 확장 가능해야 합니다.\n",
    "1. 리워드의 중복 지급이 불가능해야 합니다.\n",
    "1. 알림은 상황에 따라 늦게 발송될 수 있습니다."
   ]
  },
  {
   "cell_type": "markdown",
   "metadata": {
    "colab_type": "text",
    "id": "HcFWpsHwVJNB"
   },
   "source": [
    "### 서술형 문제 4.\n",
    "서버 애플리케이션에 동시 요청이 증가하여 응답 지연이 발생했습니다. 응답 지연의 원인을 나열하고 개선 방법을 제안하세요."
   ]
  }
 ],
 "metadata": {
  "colab": {
   "collapsed_sections": [],
   "name": "Toss.ipynb",
   "provenance": []
  },
  "kernelspec": {
   "display_name": "Python 3",
   "language": "python",
   "name": "python3"
  },
  "language_info": {
   "codemirror_mode": {
    "name": "ipython",
    "version": 3
   },
   "file_extension": ".py",
   "mimetype": "text/x-python",
   "name": "python",
   "nbconvert_exporter": "python",
   "pygments_lexer": "ipython3",
   "version": "3.7.4"
  },
  "toc": {
   "base_numbering": 1,
   "nav_menu": {},
   "number_sections": true,
   "sideBar": true,
   "skip_h1_title": true,
   "title_cell": "Table of Contents",
   "title_sidebar": "Contents",
   "toc_cell": true,
   "toc_position": {},
   "toc_section_display": true,
   "toc_window_display": false
  }
 },
 "nbformat": 4,
 "nbformat_minor": 1
}
